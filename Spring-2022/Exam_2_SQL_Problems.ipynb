{
  "nbformat": 4,
  "nbformat_minor": 0,
  "metadata": {
    "colab": {
      "name": "Exam 2: SQL Problems",
      "provenance": [],
      "collapsed_sections": [
        "tnHJoGBiE-bU",
        "bC5zz1svGbQm",
        "qGDlxmjiH3mc",
        "f9IMB6pyKD4N",
        "OtbJVjp8I4Wx",
        "BpX4eX6ZKZLX",
        "kO4l-E_ZtxkW",
        "us2Y7FazugHA",
        "0PXTuEi2vOtq",
        "MrUfbrHewLZG",
        "jJ7mhdXf1IoK",
        "xvghL_aI1tzb"
      ],
      "include_colab_link": true
    },
    "kernelspec": {
      "name": "python3",
      "display_name": "Python 3"
    },
    "language_info": {
      "name": "python"
    }
  },
  "cells": [
    {
      "cell_type": "markdown",
      "metadata": {
        "id": "view-in-github",
        "colab_type": "text"
      },
      "source": [
        "<a href=\"https://colab.research.google.com/github/brendanpshea/database_class/blob/main/Exam_2_SQL_Problems.ipynb\" target=\"_parent\"><img src=\"https://colab.research.google.com/assets/colab-badge.svg\" alt=\"Open In Colab\"/></a>"
      ]
    },
    {
      "cell_type": "markdown",
      "source": [
        "# Exam 2 Problems\n",
        "This notebook provides you a workspace to work on your exam 2 problems.  You should submit as part of your exam by downloading it as a .ipynb file.\n",
        "\n",
        "You should ALSO include the text of your queries in the exam itself.\n",
        "\n",
        "You can find a specification of the problems on the exam assignment.\n",
        "\n",
        "---\n",
        "\n"
      ],
      "metadata": {
        "id": "tnHJoGBiE-bU"
      }
    },
    {
      "cell_type": "markdown",
      "source": [
        "#Set Up: Run the cells below\n",
        "The following two cells  will get the Movie database set up. After you've run these cells (by hitting Ctrl + Enter), you should see the relational schema for each of the Movie databse tables.\n",
        "\n",
        "Note: The first time you run these cells, it may take a minute or two!\n",
        "\n"
      ],
      "metadata": {
        "id": "bC5zz1svGbQm"
      }
    },
    {
      "cell_type": "code",
      "execution_count": null,
      "metadata": {
        "id": "Hf_9KzYYE7NX",
        "colab": {
          "base_uri": "https://localhost:8080/"
        },
        "outputId": "c71f3429-ce5c-4095-8474-8bb431e9e417"
      },
      "outputs": [
        {
          "output_type": "stream",
          "name": "stdout",
          "text": [
            "The sql extension is already loaded. To reload it, use:\n",
            "  %reload_ext sql\n"
          ]
        },
        {
          "output_type": "execute_result",
          "data": {
            "text/plain": [
              "'Connected: @/content/movie.sqlite'"
            ],
            "application/vnd.google.colaboratory.intrinsic+json": {
              "type": "string"
            }
          },
          "metadata": {},
          "execution_count": 20
        }
      ],
      "source": [
        "# Some UNIX utilites we need to install for the lab.\n",
        "!pip install wget --quiet\n",
        "!pip install sqlalchemy --quiet\n",
        "!pip install ipython-sql --quiet\n",
        "\n",
        "# Now let's download the file we'll be using for this lab\n",
        "!wget 'https://github.com/brendanpshea/database_class/raw/main/movie.sqlite' -q\n",
        "\n",
        "# Let's make a connnection with the database\n",
        "%load_ext sql\n",
        "%sql sqlite:////content/movie.sqlite\n",
        "\n"
      ]
    },
    {
      "cell_type": "code",
      "source": [
        "# Get the schema\n",
        "%%sql \n",
        "SELECT name AS \"Table Name\", sql AS \"Schema of Table\" FROM sqlite_master WHERE type = 'table';"
      ],
      "metadata": {
        "id": "9shK3XySHH8-",
        "colab": {
          "base_uri": "https://localhost:8080/"
        },
        "outputId": "55f9388f-3551-40de-b87c-31e264570fdf"
      },
      "execution_count": null,
      "outputs": [
        {
          "output_type": "stream",
          "name": "stdout",
          "text": [
            " * sqlite:////content/movie.sqlite\n",
            "Done.\n"
          ]
        },
        {
          "output_type": "execute_result",
          "data": {
            "text/plain": [
              "[('Movie', 'CREATE TABLE Movie (id CHAR(7) PRIMARY KEY, name VARCHAR(64), year INTEGER, rating VARCHAR(5), runtime INTEGER, genre VARCHAR(16), earnings_rank INTEGER)'),\n",
              " ('Person', 'CREATE TABLE Person (id CHAR(7) PRIMARY KEY, name VARCHAR(64), dob DATE, pob VARCHAR(128))'),\n",
              " ('Actor', 'CREATE TABLE Actor (actor_id CHAR(7), movie_id CHAR(7), PRIMARY KEY (actor_id, movie_id), FOREIGN KEY (actor_id) REFERENCES Person(id), FOREIGN KEY (movie_id) REFERENCES Movie(id))'),\n",
              " ('Director', 'CREATE TABLE Director(director_id CHAR(7), movie_id CHAR(7), PRIMARY KEY (director_id, movie_id), FOREIGN KEY (director_id) REFERENCES Person(id), FOREIGN KEY (movie_id) REFERENCES Movie(id))'),\n",
              " ('Oscar', 'CREATE TABLE Oscar(movie_id CHAR(7), person_id CHAR(7), type VARCHAR(23), year INTEGER, PRIMARY KEY (person_id, type, year), FOREIGN KEY (movie_id) REFERENCES Movie(id), FOREIGN KEY (person_id) REFERENCES Person(id)\\n)')]"
            ],
            "text/html": [
              "<table>\n",
              "    <thead>\n",
              "        <tr>\n",
              "            <th>Table Name</th>\n",
              "            <th>Schema of Table</th>\n",
              "        </tr>\n",
              "    </thead>\n",
              "    <tbody>\n",
              "        <tr>\n",
              "            <td>Movie</td>\n",
              "            <td>CREATE TABLE Movie (id CHAR(7) PRIMARY KEY, name VARCHAR(64), year INTEGER, rating VARCHAR(5), runtime INTEGER, genre VARCHAR(16), earnings_rank INTEGER)</td>\n",
              "        </tr>\n",
              "        <tr>\n",
              "            <td>Person</td>\n",
              "            <td>CREATE TABLE Person (id CHAR(7) PRIMARY KEY, name VARCHAR(64), dob DATE, pob VARCHAR(128))</td>\n",
              "        </tr>\n",
              "        <tr>\n",
              "            <td>Actor</td>\n",
              "            <td>CREATE TABLE Actor (actor_id CHAR(7), movie_id CHAR(7), PRIMARY KEY (actor_id, movie_id), FOREIGN KEY (actor_id) REFERENCES Person(id), FOREIGN KEY (movie_id) REFERENCES Movie(id))</td>\n",
              "        </tr>\n",
              "        <tr>\n",
              "            <td>Director</td>\n",
              "            <td>CREATE TABLE Director(director_id CHAR(7), movie_id CHAR(7), PRIMARY KEY (director_id, movie_id), FOREIGN KEY (director_id) REFERENCES Person(id), FOREIGN KEY (movie_id) REFERENCES Movie(id))</td>\n",
              "        </tr>\n",
              "        <tr>\n",
              "            <td>Oscar</td>\n",
              "            <td>CREATE TABLE Oscar(movie_id CHAR(7), person_id CHAR(7), type VARCHAR(23), year INTEGER, PRIMARY KEY (person_id, type, year), FOREIGN KEY (movie_id) REFERENCES Movie(id), FOREIGN KEY (person_id) REFERENCES Person(id)<br>)</td>\n",
              "        </tr>\n",
              "    </tbody>\n",
              "</table>"
            ]
          },
          "metadata": {},
          "execution_count": 21
        }
      ]
    },
    {
      "cell_type": "code",
      "source": [
        "# Show the first 5 rows of each table\n",
        "movie_df = %sql SELECT * FROM Movie LIMIT 5;\n",
        "person_df = %sql SELECT * FROM Person LIMIT 5;\n",
        "actor_df = %sql SELECT * FROM Actor LIMIT 5;\n",
        "director_df = %sql SELECT * FROM Director LIMIT 5;\n",
        "oscar_df = %sql SELECT * FROM Oscar LIMIT 5;\n",
        "print(movie_df,'\\n\\n',person_df, '\\n\\n', actor_df, '\\n\\n', director_df, '\\n\\n', oscar_df)"
      ],
      "metadata": {
        "id": "Mvs3HAnzxmAB",
        "colab": {
          "base_uri": "https://localhost:8080/"
        },
        "outputId": "148ec7ce-e2d4-4528-d34f-b85e39f9d479"
      },
      "execution_count": null,
      "outputs": [
        {
          "output_type": "stream",
          "name": "stdout",
          "text": [
            " * sqlite:////content/movie.sqlite\n",
            "Done.\n",
            " * sqlite:////content/movie.sqlite\n",
            "Done.\n",
            " * sqlite:////content/movie.sqlite\n",
            "Done.\n",
            " * sqlite:////content/movie.sqlite\n",
            "Done.\n",
            " * sqlite:////content/movie.sqlite\n",
            "Done.\n",
            "+---------+------------------------------+------+--------+---------+-------+---------------+\n",
            "|    id   |             name             | year | rating | runtime | genre | earnings_rank |\n",
            "+---------+------------------------------+------+--------+---------+-------+---------------+\n",
            "| 2488496 | Star Wars: The Force Awakens | 2015 | PG-13  |   138   |   A   |       1       |\n",
            "| 4154796 |      Avengers: Endgame       | 2019 | PG-13  |   181   |  AVS  |       2       |\n",
            "| 0499549 |            Avatar            | 2009 | PG-13  |   162   |  AVYS |       3       |\n",
            "| 1825683 |        Black Panther         | 2018 | PG-13  |   134   |  AVS  |       4       |\n",
            "| 4154756 |    Avengers: Infinity War    | 2018 | PG-13  |   149   |  AVYS |       5       |\n",
            "+---------+------------------------------+------+--------+---------+-------+---------------+ \n",
            "\n",
            " +---------+-----------------+------------+-------------------------+\n",
            "|    id   |       name      |    dob     |           pob           |\n",
            "+---------+-----------------+------------+-------------------------+\n",
            "| 0000002 |  Lauren Bacall  | 1924-09-16 | New York, New York, USA |\n",
            "| 0000004 |   John Belushi  | 1949-01-24 |  Chicago, Illinois, USA |\n",
            "| 0000006 |  Ingrid Bergman | 1915-08-29 |    Stockholm, Sweden    |\n",
            "| 0000007 | Humphrey Bogart | 1899-12-25 | New York, New York, USA |\n",
            "| 0000008 |  Marlon Brando  | 1924-04-03 |   Omaha, Nebraska, USA  |\n",
            "+---------+-----------------+------------+-------------------------+ \n",
            "\n",
            " +----------+----------+\n",
            "| actor_id | movie_id |\n",
            "+----------+----------+\n",
            "| 0000138  | 0120338  |\n",
            "| 0000701  | 0120338  |\n",
            "| 0000708  | 0120338  |\n",
            "| 0000870  | 0120338  |\n",
            "| 0000200  | 0120338  |\n",
            "+----------+----------+ \n",
            "\n",
            " +-------------+----------+\n",
            "| director_id | movie_id |\n",
            "+-------------+----------+\n",
            "|   0000116   | 0120338  |\n",
            "|   0000184   | 0076759  |\n",
            "|   0011470   | 0298148  |\n",
            "|   0000229   | 0083866  |\n",
            "|   0000184   | 0120915  |\n",
            "+-------------+----------+ \n",
            "\n",
            " +----------+-----------+-------------------------+------+\n",
            "| movie_id | person_id |           type          | year |\n",
            "+----------+-----------+-------------------------+------+\n",
            "| 6751668  |    None   |       BEST-PICTURE      | 2020 |\n",
            "| 7286456  |  0001618  |        BEST-ACTOR       | 2020 |\n",
            "| 7549996  |  0000250  |       BEST-ACTRESS      | 2020 |\n",
            "| 7131622  |  0000093  |  BEST-SUPPORTING-ACTOR  | 2020 |\n",
            "| 7653254  |  0000368  | BEST-SUPPORTING-ACTRESS | 2020 |\n",
            "+----------+-----------+-------------------------+------+\n"
          ]
        }
      ]
    },
    {
      "cell_type": "markdown",
      "source": [
        "#Exam Problems"
      ],
      "metadata": {
        "id": "8q-7s7Tm2HOJ"
      }
    },
    {
      "cell_type": "code",
      "source": [
        "## Problem 11\n",
        "%%sql \n",
        "-- Your code here"
      ],
      "metadata": {
        "id": "gqOoTxGr0Oi2"
      },
      "execution_count": null,
      "outputs": []
    },
    {
      "cell_type": "code",
      "source": [
        "## Problem 12\n",
        "%%sql\n",
        "-- Your code here"
      ],
      "metadata": {
        "id": "2ZXWDZw90Whv"
      },
      "execution_count": null,
      "outputs": []
    },
    {
      "cell_type": "code",
      "source": [
        "## Problem 13\n",
        "%%sql\n",
        "-- Your code here"
      ],
      "metadata": {
        "id": "eXPI3xTI0cax"
      },
      "execution_count": null,
      "outputs": []
    },
    {
      "cell_type": "code",
      "source": [
        "## Problem 14\n",
        "%%sql\n",
        "-- Your code here"
      ],
      "metadata": {
        "id": "IuMEN7nB0cmO"
      },
      "execution_count": null,
      "outputs": []
    },
    {
      "cell_type": "code",
      "source": [
        "## Problem 15\n",
        "%%sql\n",
        "-- Your code here"
      ],
      "metadata": {
        "id": "YY3RC90C0g5W"
      },
      "execution_count": null,
      "outputs": []
    },
    {
      "cell_type": "code",
      "source": [
        "## Problem 16\n",
        "%%sql\n",
        "-- Your code here"
      ],
      "metadata": {
        "id": "CToCkUGf0il1"
      },
      "execution_count": null,
      "outputs": []
    },
    {
      "cell_type": "code",
      "source": [
        "## Problem 17\n",
        "%%sql\n",
        "-- Your code here"
      ],
      "metadata": {
        "id": "lR61Cbzl0j8d"
      },
      "execution_count": null,
      "outputs": []
    },
    {
      "cell_type": "code",
      "source": [
        "## Problem 18\n",
        "%%sql\n",
        "-- Your code here"
      ],
      "metadata": {
        "id": "TvBfx3ZS0lU5"
      },
      "execution_count": null,
      "outputs": []
    },
    {
      "cell_type": "code",
      "source": [
        "## Problem 19\n",
        "%%sql\n",
        "-- Your code here"
      ],
      "metadata": {
        "id": "JxJ6L0xi0m5k"
      },
      "execution_count": null,
      "outputs": []
    },
    {
      "cell_type": "code",
      "source": [
        "## Problem 20\n",
        "%%sql\n",
        "-- Your code here"
      ],
      "metadata": {
        "id": "jAMZ89m-0oOd"
      },
      "execution_count": null,
      "outputs": []
    }
  ]
}
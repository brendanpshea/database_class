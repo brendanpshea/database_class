{
  "nbformat": 4,
  "nbformat_minor": 0,
  "metadata": {
    "colab": {
      "name": "Database and SQL: Final Project Pt 1",
      "provenance": [],
      "collapsed_sections": [],
      "authorship_tag": "ABX9TyN7rkW3lN/G58mk5TGOu31/",
      "include_colab_link": true
    },
    "kernelspec": {
      "name": "python3",
      "display_name": "Python 3"
    },
    "language_info": {
      "name": "python"
    }
  },
  "cells": [
    {
      "cell_type": "markdown",
      "metadata": {
        "id": "view-in-github",
        "colab_type": "text"
      },
      "source": [
        "<a href=\"https://colab.research.google.com/github/brendanpshea/database_class/blob/main/Database_and_SQL_Final_Project_Pt_1.ipynb\" target=\"_parent\"><img src=\"https://colab.research.google.com/assets/colab-badge.svg\" alt=\"Open In Colab\"/></a>"
      ]
    },
    {
      "cell_type": "markdown",
      "source": [
        "#Database and SQL Final Project (Part 1)\n",
        "\n",
        "##Name: \n",
        "\n",
        "**Make sure to \"save\" a copy of this file to your own account.**\n",
        "\n",
        "\n",
        "Exam 3 for the course will take the form of a “final project” where you will take a set of business rules (which you can find  below). and do the following.\n",
        "\n",
        "\n",
        "1.\tFormulate business rules\n",
        "2.\tConstruct an ERD from a set of business rules\n",
        "3.\tSpecify the relational schema\n",
        "4.\tDiscuss whether this schema meets the 1N, 2N, and 3N normal forms\n",
        "5.\tCreate the tables using SQL queries\n",
        "6.\tRun sample SQL queries that demonstrate your ability to\n",
        "  \n",
        "  a.\tCreate table with primary keys and multiple data types\n",
        "\n",
        "  b.\tJoin tables with foreign keys\n",
        "\n",
        "  c.\tInsert sample data into tables\n",
        "\n",
        "  d.\tUpdate existing data in the table\n",
        "\n",
        "  e.\tDelete data from the table\n",
        "7.\tRun sample SQL queries that demonstrate your ability to do the following:\n",
        "\n",
        "  a.\tSimple single table queries\n",
        "\n",
        "  b.\tSingle-table queries with WHERE and LIKE\n",
        "\n",
        "  c.\tSingle-table queries with aggregate functions\n",
        "\n",
        "  d.\tSingle table queries with GROUP BY\n",
        "\n",
        "  e.\tSingle-table queries with HAVING\n",
        "\n",
        "  f.\tSubqueries\n",
        "\n",
        "  g.\tSimple multi-table queries with JOIN\n",
        "\n",
        "  h.\tMore complex multi-table queries\n",
        "\n",
        "  i.\tThe creation of table views\n",
        "  \n",
        "  j.\tThe creation of indexes\n",
        "8.\tDiscuss your process of database design and implementation using the Software Development LifeCycle Model \n",
        "9.\tDo something unique! You could do ONE of the following, or something else:\n",
        "\n",
        "  a.\tBuild some indexes and analyze query performance\n",
        "\n",
        "  b.\tFigure out how to add a JSON column, and insert data\n",
        "\n",
        "  c.\tWrite a PL/SQL functions or trigger and show how to use it\n",
        "\n",
        "  d.\tExpand the data model to include subtypes and supertypes\n",
        "\n",
        "  e.\tLet your creativity shine!\n",
        "10.\tSave this project as a portfolio-quality work to Github, which you can then share with me (and with future employers, if you would like).\n",
        "The overall project is worth 100 points. We’ll be working on pieces of this for each of our “labs” from now until the end of the semester.\n",
        "\n",
        "\n",
        "**Other Guidelines** Here are the guidelines for working on the project:\n",
        "\n",
        "1. Each week, you should share your project with me to show me how you're doing. If you complete the required steps for that week, you'll receive full credit for the lab.\n",
        "2. You are welcome to discuss your project with either me or your peers. However, your final work (for example, the ER diagram,  SQL code, etc.) should represent your *own* response. \n",
        "3. Each \"step\" in the lab will be worth ten points total (for a total of 100 points)."
      ],
      "metadata": {
        "id": "emc3Vlnhi8NH"
      }
    },
    {
      "cell_type": "markdown",
      "source": [
        "#Load Postgres (Run This Cell)"
      ],
      "metadata": {
        "id": "G_l6aadBOkDC"
      }
    },
    {
      "cell_type": "code",
      "execution_count": 1,
      "metadata": {
        "id": "4M1wPXuYixoq",
        "outputId": "10e4926c-3811-4b28-e6be-e6e131060dbe",
        "colab": {
          "base_uri": "https://localhost:8080/",
          "height": 1000
        }
      },
      "outputs": [
        {
          "output_type": "stream",
          "name": "stdout",
          "text": [
            "  Building wheel for wget (setup.py) ... \u001b[?25l\u001b[?25hdone\n",
            "debconf: unable to initialize frontend: Dialog\n",
            "debconf: (No usable dialog-like program is installed, so the dialog based frontend cannot be used. at /usr/share/perl5/Debconf/FrontEnd/Dialog.pm line 76, <> line 10.)\n",
            "debconf: falling back to frontend: Readline\n",
            "debconf: unable to initialize frontend: Readline\n",
            "debconf: (This frontend requires a controlling tty.)\n",
            "debconf: falling back to frontend: Teletype\n",
            "dpkg-preconfigure: unable to re-open stdin: \n",
            "Selecting previously unselected package cron.\n",
            "(Reading database ... 155501 files and directories currently installed.)\n",
            "Preparing to unpack .../0-cron_3.0pl1-128.1ubuntu1_amd64.deb ...\n",
            "Unpacking cron (3.0pl1-128.1ubuntu1) ...\n",
            "Selecting previously unselected package logrotate.\n",
            "Preparing to unpack .../1-logrotate_3.11.0-0.1ubuntu1_amd64.deb ...\n",
            "Unpacking logrotate (3.11.0-0.1ubuntu1) ...\n",
            "Selecting previously unselected package netbase.\n",
            "Preparing to unpack .../2-netbase_5.4_all.deb ...\n",
            "Unpacking netbase (5.4) ...\n",
            "Selecting previously unselected package postgresql-client-common.\n",
            "Preparing to unpack .../3-postgresql-client-common_190ubuntu0.1_all.deb ...\n",
            "Unpacking postgresql-client-common (190ubuntu0.1) ...\n",
            "Selecting previously unselected package postgresql-client-10.\n",
            "Preparing to unpack .../4-postgresql-client-10_10.19-0ubuntu0.18.04.1_amd64.deb ...\n",
            "Unpacking postgresql-client-10 (10.19-0ubuntu0.18.04.1) ...\n",
            "Selecting previously unselected package ssl-cert.\n",
            "Preparing to unpack .../5-ssl-cert_1.0.39_all.deb ...\n",
            "Unpacking ssl-cert (1.0.39) ...\n",
            "Selecting previously unselected package postgresql-common.\n",
            "Preparing to unpack .../6-postgresql-common_190ubuntu0.1_all.deb ...\n",
            "Adding 'diversion of /usr/bin/pg_config to /usr/bin/pg_config.libpq-dev by postgresql-common'\n",
            "Unpacking postgresql-common (190ubuntu0.1) ...\n",
            "Selecting previously unselected package postgresql-10.\n",
            "Preparing to unpack .../7-postgresql-10_10.19-0ubuntu0.18.04.1_amd64.deb ...\n",
            "Unpacking postgresql-10 (10.19-0ubuntu0.18.04.1) ...\n",
            "Selecting previously unselected package postgresql.\n",
            "Preparing to unpack .../8-postgresql_10+190ubuntu0.1_all.deb ...\n",
            "Unpacking postgresql (10+190ubuntu0.1) ...\n",
            "Selecting previously unselected package sysstat.\n",
            "Preparing to unpack .../9-sysstat_11.6.1-1ubuntu0.1_amd64.deb ...\n",
            "Unpacking sysstat (11.6.1-1ubuntu0.1) ...\n",
            "Setting up sysstat (11.6.1-1ubuntu0.1) ...\n",
            "debconf: unable to initialize frontend: Dialog\n",
            "debconf: (No usable dialog-like program is installed, so the dialog based frontend cannot be used. at /usr/share/perl5/Debconf/FrontEnd/Dialog.pm line 76.)\n",
            "debconf: falling back to frontend: Readline\n",
            "\n",
            "Creating config file /etc/default/sysstat with new version\n",
            "update-alternatives: using /usr/bin/sar.sysstat to provide /usr/bin/sar (sar) in auto mode\n",
            "Created symlink /etc/systemd/system/multi-user.target.wants/sysstat.service → /lib/systemd/system/sysstat.service.\n",
            "Setting up ssl-cert (1.0.39) ...\n",
            "debconf: unable to initialize frontend: Dialog\n",
            "debconf: (No usable dialog-like program is installed, so the dialog based frontend cannot be used. at /usr/share/perl5/Debconf/FrontEnd/Dialog.pm line 76.)\n",
            "debconf: falling back to frontend: Readline\n",
            "Setting up cron (3.0pl1-128.1ubuntu1) ...\n",
            "Adding group `crontab' (GID 110) ...\n",
            "Done.\n",
            "Created symlink /etc/systemd/system/multi-user.target.wants/cron.service → /lib/systemd/system/cron.service.\n",
            "update-rc.d: warning: start and stop actions are no longer supported; falling back to defaults\n",
            "invoke-rc.d: could not determine current runlevel\n",
            "invoke-rc.d: policy-rc.d denied execution of start.\n",
            "Setting up logrotate (3.11.0-0.1ubuntu1) ...\n",
            "Setting up netbase (5.4) ...\n",
            "Setting up postgresql-client-common (190ubuntu0.1) ...\n",
            "Setting up postgresql-common (190ubuntu0.1) ...\n",
            "debconf: unable to initialize frontend: Dialog\n",
            "debconf: (No usable dialog-like program is installed, so the dialog based frontend cannot be used. at /usr/share/perl5/Debconf/FrontEnd/Dialog.pm line 76.)\n",
            "debconf: falling back to frontend: Readline\n",
            "Adding user postgres to group ssl-cert\n",
            "\n",
            "Creating config file /etc/postgresql-common/createcluster.conf with new version\n",
            "Building PostgreSQL dictionaries from installed myspell/hunspell packages...\n",
            "Removing obsolete dictionary files:\n",
            "Created symlink /etc/systemd/system/multi-user.target.wants/postgresql.service → /lib/systemd/system/postgresql.service.\n",
            "invoke-rc.d: could not determine current runlevel\n",
            "invoke-rc.d: policy-rc.d denied execution of start.\n",
            "Setting up postgresql-client-10 (10.19-0ubuntu0.18.04.1) ...\n",
            "update-alternatives: using /usr/share/postgresql/10/man/man1/psql.1.gz to provide /usr/share/man/man1/psql.1.gz (psql.1.gz) in auto mode\n",
            "Setting up postgresql-10 (10.19-0ubuntu0.18.04.1) ...\n",
            "debconf: unable to initialize frontend: Dialog\n",
            "debconf: (No usable dialog-like program is installed, so the dialog based frontend cannot be used. at /usr/share/perl5/Debconf/FrontEnd/Dialog.pm line 76.)\n",
            "debconf: falling back to frontend: Readline\n",
            "Creating new PostgreSQL cluster 10/main ...\n",
            "/usr/lib/postgresql/10/bin/initdb -D /var/lib/postgresql/10/main --auth-local peer --auth-host md5\n",
            "The files belonging to this database system will be owned by user \"postgres\".\n",
            "This user must also own the server process.\n",
            "\n",
            "The database cluster will be initialized with locale \"en_US.UTF-8\".\n",
            "The default database encoding has accordingly been set to \"UTF8\".\n",
            "The default text search configuration will be set to \"english\".\n",
            "\n",
            "Data page checksums are disabled.\n",
            "\n",
            "fixing permissions on existing directory /var/lib/postgresql/10/main ... ok\n",
            "creating subdirectories ... ok\n",
            "selecting default max_connections ... 100\n",
            "selecting default shared_buffers ... 128MB\n",
            "selecting default timezone ... Etc/UTC\n",
            "selecting dynamic shared memory implementation ... posix\n",
            "creating configuration files ... ok\n",
            "running bootstrap script ... ok\n",
            "performing post-bootstrap initialization ... ok\n",
            "syncing data to disk ... ok\n",
            "\n",
            "Success. You can now start the database server using:\n",
            "\n",
            "    /usr/lib/postgresql/10/bin/pg_ctl -D /var/lib/postgresql/10/main -l logfile start\n",
            "\n",
            "Ver Cluster Port Status Owner    Data directory              Log file\n",
            "\u001b[31m10  main    5432 down   postgres /var/lib/postgresql/10/main /var/log/postgresql/postgresql-10-main.log\u001b[0m\n",
            "update-alternatives: using /usr/share/postgresql/10/man/man1/postmaster.1.gz to provide /usr/share/man/man1/postmaster.1.gz (postmaster.1.gz) in auto mode\n",
            "invoke-rc.d: could not determine current runlevel\n",
            "invoke-rc.d: policy-rc.d denied execution of start.\n",
            "Setting up postgresql (10+190ubuntu0.1) ...\n",
            "Processing triggers for man-db (2.8.3-2ubuntu0.1) ...\n",
            "Processing triggers for systemd (237-3ubuntu10.53) ...\n",
            " * Starting PostgreSQL 10 database server\n",
            "   ...done.\n",
            "ALTER ROLE\n",
            "NOTICE:  database \"my_data\" does not exist, skipping\n",
            "DROP DATABASE\n",
            "CREATE DATABASE\n",
            "env: DB_NAME=my_data\n",
            "env: DB_HOST=localhost\n",
            "env: DB_PORT=5432\n",
            "env: DB_USER=postgres\n",
            "env: DB_PASS=postgres\n"
          ]
        },
        {
          "output_type": "stream",
          "name": "stderr",
          "text": [
            "/usr/local/lib/python3.7/dist-packages/psycopg2/__init__.py:144: UserWarning: The psycopg2 wheel package will be renamed from release 2.8; in order to keep installing from binary please use \"pip install psycopg2-binary\" instead. For details see: <http://initd.org/psycopg/docs/install.html#binary-install-from-pypi>.\n",
            "  \"\"\")\n"
          ]
        },
        {
          "output_type": "execute_result",
          "data": {
            "text/plain": [
              "'Connected: postgres@my_data'"
            ],
            "application/vnd.google.colaboratory.intrinsic+json": {
              "type": "string"
            }
          },
          "metadata": {},
          "execution_count": 1
        }
      ],
      "source": [
        "# Some UNIX utilites we need to install for the lab.\n",
        "!pip install wget --quiet\n",
        "!pip install sqlalchemy --quiet\n",
        "!pip install ipython-sql --quiet\n",
        "\n",
        "# Install postgresql server\n",
        "!sudo apt-get -y -qq update\n",
        "!sudo apt-get -y -qq install postgresql\n",
        "!pip install pgspecial --quiet\n",
        "\n",
        "!sudo service postgresql start\n",
        "\n",
        "\n",
        "# Setup a password `postgres` for username `postgres`\n",
        "!sudo -u postgres psql -U postgres -c \"ALTER USER postgres PASSWORD 'postgres';\"\n",
        "\n",
        "# Setup a postgres database with name `my_data` to be used\n",
        "!sudo -u postgres psql -U postgres -c 'DROP DATABASE IF EXISTS my_data;'\n",
        "\n",
        "!sudo -u postgres psql -U postgres -c 'CREATE DATABASE my_data;'\n",
        "\n",
        "# Postgres variables\n",
        "%env DB_NAME=my_data\n",
        "%env DB_HOST=localhost\n",
        "%env DB_PORT=5432\n",
        "%env DB_USER=postgres\n",
        "%env DB_PASS=postgres\n",
        "\n",
        "# Finally, let's make a connnection with the databse\n",
        "%load_ext sql\n",
        "%sql postgresql://$DB_USER:$DB_PASS@$DB_HOST/$DB_NAME"
      ]
    },
    {
      "cell_type": "markdown",
      "source": [
        "#Part 1: Scenario Analysis and Business Rule Formulation\n",
        "For the project, you’ll be creating a mock database for “Monster University,” a school that takes young monsters (dragons, werewolves, cute “ET” style aliens, vampires, ogres, talking apes, robot assassins, and basically anything else you want) and teaches them to be upstanding members of the monster community. The professors are ALSO monsters. Here are the business rules you’ll need to get started:\n",
        "\n",
        "1.\tYour main goal is to represent the Monsters, Classes, and Locations (buildings/rooms) at the school.\n",
        "2.\tMonsters can either teach classes, take classes, or both.\n",
        "3.\tFor all Monsters we need to keep track of their \n",
        "\n",
        "  a.\tname\n",
        "\n",
        "  b.\tspecies (what kind of monster are they?)\n",
        "\n",
        "  c.\tdate of birth\n",
        "\n",
        "  d.\ttheir diet, if known (herbivore, carnivore, omnivore, “brains”, “electricity”, etc.)\n",
        "\n",
        "  e. their GPA (between 0 and 4.0)\n",
        "\n",
        "  f. the number of credits completed.\n",
        "\n",
        "4.\tFor classes, we’d like to track the following:\n",
        "\n",
        "  a.\tThe title of the class\n",
        "\n",
        "  b.\tThe location in which the class is held\n",
        "\n",
        "  c.\tThe duration of the class in minutes (between 30 and 180)\n",
        "\n",
        "  d.  The days on which the class meets (for example \"MWF\" or \"TH\").\n",
        "\n",
        "  e.  The start time of the class \n",
        "  \n",
        "  f.  The instructor of the class (who is a Monster)\n",
        "\n",
        "  \n",
        "5. For locations we want to record:\n",
        "\n",
        "  a. A two-character building code (e.g., \"MH\" for Memorial Hall).\n",
        "\n",
        "  b. The room number between 1 and 2000.\n",
        "\n",
        "  c. The max capacity between 10 and 300.\n",
        "\n",
        "6. Some Monsters are Alumni, who have graduated from the school. For alumni we also want to record:\n",
        "\n",
        "  a. the year they graduated, and\n",
        "  \n",
        "  b. their degree (computer science, business, English, etc.).\n",
        "\n",
        "7.\tFormulate THREE additional business rules of your choice. Remember, you’ll eventually need to implement these! At least ONE of these rules should involve a new entity, relationship, and/or constraint (as opposed to simply a new attribute). \n"
      ],
      "metadata": {
        "id": "JkRsM0CVPCyv"
      }
    },
    {
      "cell_type": "markdown",
      "source": [
        "##Your New Business Rules Here:\n",
        "1. item 1\n",
        "\n",
        "2. item 2\n",
        "\n",
        "3. item 3"
      ],
      "metadata": {
        "id": "NHPX9pNwPTKh"
      }
    },
    {
      "cell_type": "markdown",
      "source": [
        "#Part 2: Conceptual Modeling using Entity-Relationship Diagramming\n",
        "In this step, I'd like to create an ERD for the business rules above using [Diagrams.net](https://diagrams.net). You should include all entities, attributes, relationships, and cardinalilities. After you have completed this diagram, you should do the following:\n",
        "\n",
        "1. Export it as \"SVG\" file in diagrams.net, and save this to your computer.\n",
        "2. Edit this cell, and select the \"Insert Image\" button.\n",
        "3. Select the SVG file you download.\n",
        "4. NOTE: SVG files will work much better than larger image files (which may cause problems if you try to insert them).\n",
        "\n",
        "INSERT SVG FILE HERE."
      ],
      "metadata": {
        "id": "cV_EtRLePpnY"
      }
    },
    {
      "cell_type": "markdown",
      "source": [
        "#Part 3: Logical Modeling\n",
        "In this part, I'd like you to map the E-R model you've created to a relational model. This involves creating a relational scheme like the following:\n",
        "\n",
        "\n",
        "```\n",
        "table_name_1(attribute1 (PK), attribute2, attribute3)\n",
        "table_name_2(attribute1 (PK), attribute2, attribute3)\n",
        "\n",
        "```\n",
        "You should indicate any **primary keys** by using (PK) and any foreign keys with (FK). For primary keys, you'll need to think about whether you can/should use attributes included in the ER diagram, or whether you might want to to create new attributes to serve as keys.\n",
        "\n",
        "I recommend creating entities in this order:\n",
        "1. One table for each \"strong\" entity in the E-R diagram. Decide on a primary key.\n",
        "2. Tables for subtypes, if needed.\n",
        "3. One table for each \"weak\" entity (besides subtypes) in the E-R diagram. Decide on appropriate primary and foreign keys.\n",
        "4. Tables needed to model M:N relationships present in the E-R diagram.\n",
        "\n",
        "**PUT YOUR ANSWER BELOW.**\n",
        "\n",
        "My answer..."
      ],
      "metadata": {
        "id": "kFIH3wVIQypo"
      }
    },
    {
      "cell_type": "markdown",
      "source": [
        "#Part 4: Normalization\n",
        "Are your relations normalized? Please provide a 2-3 sentence explanation of why/how they meet the following normal forms. Or, if they don't, describe what needs to be done to change them.\n",
        "\n",
        "1. **First Normal Form.** \n",
        "\n",
        "(Your explantion here).\n",
        "2. **Second Normal Form.**\n",
        "\n",
        "(Your explanation here).\n",
        "3. **Third Normal Form.** \n",
        "\n",
        "(Your explanation here).\n",
        "\n",
        "**Revised relational scheme (if needed):**\n",
        "(Your answer here).\n",
        "\n"
      ],
      "metadata": {
        "id": "j9QCguK0SbxL"
      }
    },
    {
      "cell_type": "markdown",
      "source": [
        "#Part 5\n",
        "That's all for this week! Next week, we'll be moving onto the creation of table and insertion of data."
      ],
      "metadata": {
        "id": "S1lnI1iGEQpw"
      }
    },
    {
      "cell_type": "code",
      "source": [
        ""
      ],
      "metadata": {
        "id": "rQ9CiBEREYCC"
      },
      "execution_count": 1,
      "outputs": []
    }
  ]
}
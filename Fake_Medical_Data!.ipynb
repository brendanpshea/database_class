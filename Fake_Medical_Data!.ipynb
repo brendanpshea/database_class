{
  "nbformat": 4,
  "nbformat_minor": 0,
  "metadata": {
    "colab": {
      "name": "Fake Medical Data!",
      "provenance": [],
      "authorship_tag": "ABX9TyPRaw0y9ly0AoboPTCc1Tbe",
      "include_colab_link": true
    },
    "kernelspec": {
      "name": "python3",
      "display_name": "Python 3"
    },
    "language_info": {
      "name": "python"
    }
  },
  "cells": [
    {
      "cell_type": "markdown",
      "metadata": {
        "id": "view-in-github",
        "colab_type": "text"
      },
      "source": [
        "<a href=\"https://colab.research.google.com/github/brendanpshea/database_class/blob/main/Fake_Medical_Data!.ipynb\" target=\"_parent\"><img src=\"https://colab.research.google.com/assets/colab-badge.svg\" alt=\"Open In Colab\"/></a>"
      ]
    },
    {
      "cell_type": "markdown",
      "source": [
        "#A Python Program For Generating Sample Medical Database Values\n",
        "Brendan Shea, Phd (Brendan.Shea@rctc.edu)"
      ],
      "metadata": {
        "id": "DQlreMqVmEF9"
      }
    },
    {
      "cell_type": "code",
      "execution_count": 1,
      "metadata": {
        "colab": {
          "base_uri": "https://localhost:8080/"
        },
        "id": "rLswkcmemDay",
        "outputId": "e7b0785a-8695-4c80-a7f0-34532600df63"
      },
      "outputs": [
        {
          "output_type": "stream",
          "name": "stdout",
          "text": [
            "Requirement already satisfied: faker in /usr/local/lib/python3.7/dist-packages (13.3.4)\n",
            "Requirement already satisfied: typing-extensions>=3.10.0.2 in /usr/local/lib/python3.7/dist-packages (from faker) (3.10.0.2)\n",
            "Requirement already satisfied: python-dateutil>=2.4 in /usr/local/lib/python3.7/dist-packages (from faker) (2.8.2)\n",
            "Requirement already satisfied: six>=1.5 in /usr/local/lib/python3.7/dist-packages (from python-dateutil>=2.4->faker) (1.15.0)\n"
          ]
        }
      ],
      "source": [
        "!sudo pip install faker"
      ]
    },
    {
      "cell_type": "markdown",
      "source": [
        ""
      ],
      "metadata": {
        "id": "ZnBhWj9dqFNX"
      }
    },
    {
      "cell_type": "code",
      "source": [
        "import string, random\n",
        "from faker import Faker\n",
        "fake = Faker()\n",
        "\n",
        "def get_random_weight():\n",
        "    return round(random.normalvariate(62,10),1)\n",
        "\n",
        "def get_random_height():\n",
        "  return round(random.normalvariate(1.7),2)\n",
        "\n",
        "def get_random_glucose():\n",
        "  value = round(random.normalvariate(80,20), 2)\n",
        "  return max(value, 20)\n",
        "\n",
        "def get_random_ldl ():\n",
        "  value = round(random.normalvariate(110,25), 2)\n",
        "  return max(value, 25)\n",
        "\n",
        "def get_rand_string(length):\n",
        "  return ''.join(random.choice(string.ascii_letters + string.digits) for i in range(length))\n"
      ],
      "metadata": {
        "id": "baYV2uNtn68Y"
      },
      "execution_count": 2,
      "outputs": []
    },
    {
      "cell_type": "code",
      "source": [
        "# Generate doctor doctor data\n",
        "doctor_ids = []    # store list of doctor ids\n",
        "specialities = ['Cardiology', 'Oncology', 'Internal Medicine', 'Neurology', 'Psychology']\n",
        "\n",
        "with open(\"doctor_data.csv\", 'w') as f:\n",
        "  for i in range(25):\n",
        "    id = get_rand_string(6)\n",
        "    doctor_ids.append(id)\n",
        "    med_license = \"MN\" + get_rand_string(10)\n",
        "    salary = round(random.randrange(150000,500000),2)\n",
        "    f.write(f\"{id},{fake.name()},{salary},{med_license}\\n\")"
      ],
      "metadata": {
        "id": "iabi1nVQAOTX"
      },
      "execution_count": 3,
      "outputs": []
    },
    {
      "cell_type": "code",
      "source": [
        "# Generate patient data\n",
        "\n",
        "with open(\"patient_data.csv\",'w') as f:\n",
        "  for id in range(1,500):\n",
        "    primary_care = random.choice(doctor_ids)\n",
        "    f.write(f\"{id},{fake.name()},{fake.date_of_birth()},\\\"{fake.address()}\\\",{get_random_weight()},{primary_care}\\n\")"
      ],
      "metadata": {
        "id": "8ULcmyHMnCXp"
      },
      "execution_count": 4,
      "outputs": []
    },
    {
      "cell_type": "code",
      "source": [
        "# Generate lab data\n",
        "with open(\"lab_data.csv\",'w') as f:\n",
        "  for i in range(1,2000):\n",
        "    pid = random.randint(1,499)\n",
        "    did = random.choice(doctor_ids)\n",
        "    f.write(f\"{pid},{did},{fake.date_time_this_decade()},{get_random_glucose()},{get_random_ldl()}\\n\")"
      ],
      "metadata": {
        "id": "9NBd2r3RKjTg"
      },
      "execution_count": 5,
      "outputs": []
    },
    {
      "cell_type": "code",
      "source": [
        ""
      ],
      "metadata": {
        "id": "h1-JuADdQaQ-"
      },
      "execution_count": 5,
      "outputs": []
    }
  ]
}
{
  "nbformat": 4,
  "nbformat_minor": 0,
  "metadata": {
    "colab": {
      "name": "Lab: Basic SQL",
      "provenance": [],
      "collapsed_sections": [
        "tnHJoGBiE-bU",
        "bC5zz1svGbQm",
        "qGDlxmjiH3mc",
        "f9IMB6pyKD4N",
        "OtbJVjp8I4Wx",
        "BpX4eX6ZKZLX",
        "kO4l-E_ZtxkW",
        "us2Y7FazugHA",
        "0PXTuEi2vOtq",
        "MrUfbrHewLZG",
        "jJ7mhdXf1IoK",
        "xvghL_aI1tzb"
      ],
      "authorship_tag": "ABX9TyMtLUXHgckeV9QrcNVx+LNP",
      "include_colab_link": true
    },
    "kernelspec": {
      "name": "python3",
      "display_name": "Python 3"
    },
    "language_info": {
      "name": "python"
    }
  },
  "cells": [
    {
      "cell_type": "markdown",
      "metadata": {
        "id": "view-in-github",
        "colab_type": "text"
      },
      "source": [
        "<a href=\"https://colab.research.google.com/github/brendanpshea/database_class/blob/main/Lab_Basic_SQL.ipynb\" target=\"_parent\"><img src=\"https://colab.research.google.com/assets/colab-badge.svg\" alt=\"Open In Colab\"/></a>"
      ]
    },
    {
      "cell_type": "markdown",
      "source": [
        "# Lab Directions\n",
        "For this lab, you'll be writing some basic SQL queries. Here is what you need to do:\n",
        "\n",
        "1. \"OPEN\" this lab in \"Google Colab\" and proceed to set up afree Google Colab account if you nned to: https://colab.research.google.com/. \n",
        "2. Save a copy of this lab to your Colab account. You'll want to connect to a \"runtime\".\n",
        "3. Work on the lab! To run code cells, you just need to click \"Ctrl + Enter.\" To edit cells, you can double click on the them.\n",
        "4. When you are done working on the lab, click on \"File: Print\" and choose the option to print/save it as a PDF file. (If you can't figure out how to do this, you can also \"Share\" the lab with Brendan.Shea@rctc.edu).\n",
        "5. Submit the PDF file to D2L.\n",
        "\n",
        "Oh, and make sure to put your name here:\n",
        "\n",
        "NAME(s):\n",
        "\n",
        "---\n",
        "\n"
      ],
      "metadata": {
        "id": "tnHJoGBiE-bU"
      }
    },
    {
      "cell_type": "markdown",
      "source": [
        "#Problem 0: Run the cells below\n",
        "The following two cells  will get the Movie database set up. After you've run these cells (by hitting Ctrl + Enter), you should see the relational schema for each of the Movie databse tables.\n",
        "\n",
        "Note: The first time you run these cells, it may take a minute or two!\n",
        "\n"
      ],
      "metadata": {
        "id": "bC5zz1svGbQm"
      }
    },
    {
      "cell_type": "code",
      "execution_count": null,
      "metadata": {
        "id": "Hf_9KzYYE7NX"
      },
      "outputs": [],
      "source": [
        "# Some UNIX utilites we need to install for the lab.\n",
        "!pip install wget --quiet\n",
        "!pip install sqlalchemy --quiet\n",
        "!pip install ipython-sql --quiet\n",
        "\n",
        "# Now let's download the file we'll be using for this lab\n",
        "!wget 'https://github.com/brendanpshea/database_class/raw/main/movie.sqlite' -q\n",
        "\n",
        "# Let's make a connnection with the database\n",
        "%load_ext sql\n",
        "%sql sqlite:////content/movie.sqlite\n",
        "\n"
      ]
    },
    {
      "cell_type": "code",
      "source": [
        "# Get the schema\n",
        "%%sql \n",
        "SELECT name as \"Table Name\", sql as \"Schema of Table\" FROM sqlite_master where type = 'table';"
      ],
      "metadata": {
        "id": "9shK3XySHH8-"
      },
      "execution_count": null,
      "outputs": []
    },
    {
      "cell_type": "code",
      "source": [
        "# Show the first 5 rows of each table\n",
        "movie_df = %sql SELECT * FROM Movie LIMIT 5;\n",
        "person_df = %sql SELECT * FROM Person LIMIT 5;\n",
        "actor_df = %sql SELECT * FROM Actor LIMIT 5;\n",
        "director_df = %sql SELECT * FROM Director LIMIT 5;\n",
        "oscar_df = %sql SELECT * FROM Oscar LIMIT 5;\n",
        "print(movie_df,'\\n\\n',person_df, '\\n\\n', actor_df, '\\n\\n', director_df, '\\n\\n', oscar_df)"
      ],
      "metadata": {
        "id": "Mvs3HAnzxmAB"
      },
      "execution_count": null,
      "outputs": []
    },
    {
      "cell_type": "code",
      "source": [
        "%%sql\n",
        "--feel free to type some queries here (and the run them) to see how they work!\n",
        "--You should only write ONE query per cell."
      ],
      "metadata": {
        "id": "PkyBnLOI0jZa"
      },
      "execution_count": null,
      "outputs": []
    },
    {
      "cell_type": "markdown",
      "source": [
        "# Problem 1\n",
        "Retrieve the first 8 rows in the Oscar table ordered by Oscar type. Hint: You'll need to use SELECT, FROM, ORDER BY, and LIMIT. You'll want to retrieve all attributes using *."
      ],
      "metadata": {
        "id": "qGDlxmjiH3mc"
      }
    },
    {
      "cell_type": "code",
      "source": [
        "%%sql\n",
        "--Your code here"
      ],
      "metadata": {
        "id": "L5D0klr9HQq6"
      },
      "execution_count": null,
      "outputs": []
    },
    {
      "cell_type": "markdown",
      "source": [
        "#Problem 2\n",
        "Retrieve a list of the different \"types\" of awards that are listed in the Oscar table. Hint: use DISTINCT."
      ],
      "metadata": {
        "id": "f9IMB6pyKD4N"
      }
    },
    {
      "cell_type": "code",
      "source": [
        "%%sql\n",
        "--Your code here"
      ],
      "metadata": {
        "id": "nWh1jd4IKOcv"
      },
      "execution_count": null,
      "outputs": []
    },
    {
      "cell_type": "markdown",
      "source": [
        "#Problem 3\n",
        "Retrieve the number of distinct directors that are represented in the Director table. Hint, you'll neeed to use both COUNT and DISTINCT. You only want each \"director_id\" to be counted once."
      ],
      "metadata": {
        "id": "OtbJVjp8I4Wx"
      }
    },
    {
      "cell_type": "code",
      "source": [
        "%%sql\n",
        "--Your code here"
      ],
      "metadata": {
        "id": "KgpBDh-ZJRm8"
      },
      "execution_count": null,
      "outputs": []
    },
    {
      "cell_type": "markdown",
      "source": [
        "#Problem 4\n",
        "Retrieve the name and release year of movies that start with the word 'Captain.'"
      ],
      "metadata": {
        "id": "BpX4eX6ZKZLX"
      }
    },
    {
      "cell_type": "code",
      "source": [
        "%%sql\n",
        "--Your code here"
      ],
      "metadata": {
        "id": "wkzDrf30sv5d"
      },
      "execution_count": null,
      "outputs": []
    },
    {
      "cell_type": "markdown",
      "source": [
        "#Problem 5\n",
        "Retrieve the name and place of birth of all Persons born in \"Minnesota, USA\". Order them in descending order by name."
      ],
      "metadata": {
        "id": "kO4l-E_ZtxkW"
      }
    },
    {
      "cell_type": "code",
      "source": [
        "%%sql\n",
        "--Your code here"
      ],
      "metadata": {
        "id": "9dL6qaLTuBwR"
      },
      "execution_count": null,
      "outputs": []
    },
    {
      "cell_type": "markdown",
      "source": [
        "#Problem 6\n",
        "Retrieve the names and release years of movies that have won a 'Best Picture' Oscar. Limit the results to 10. Hint: You'll need to JOIN Oscar and Movie using Oscar.movie_id and Movie.id. You'll also need to think about Oscar.type and Movie.year."
      ],
      "metadata": {
        "id": "us2Y7FazugHA"
      }
    },
    {
      "cell_type": "code",
      "source": [
        "%%sql\n",
        "--Your code here"
      ],
      "metadata": {
        "id": "jOMicRA9KX7k"
      },
      "execution_count": null,
      "outputs": []
    },
    {
      "cell_type": "markdown",
      "source": [
        "#Problem 7\n",
        "Retrieve the names of all Persons who have won a 'BEST-ACTRESS' award since 1990. Hint: You'll need to JOIN Persons with Oscar."
      ],
      "metadata": {
        "id": "0PXTuEi2vOtq"
      }
    },
    {
      "cell_type": "code",
      "source": [
        "%%sql\n",
        "--Your code here"
      ],
      "metadata": {
        "id": "b93S8mSlwHKi"
      },
      "execution_count": null,
      "outputs": []
    },
    {
      "cell_type": "markdown",
      "source": [
        "#Problem 8\n",
        "Retrieve the COUNT of actors who appeared in a film in 2012. Name this column that is returned \"2012 Actors.\" Hint: You'll need to JOIN Actor with Movie. And rememember to count only \"distinct\" actor_ids (since some actors will have appeared in multiple movies)."
      ],
      "metadata": {
        "id": "MrUfbrHewLZG"
      }
    },
    {
      "cell_type": "code",
      "source": [
        "%%sql\n",
        "--Your code here"
      ],
      "metadata": {
        "id": "BPv7r1kmwptB"
      },
      "execution_count": null,
      "outputs": []
    },
    {
      "cell_type": "markdown",
      "source": [
        "#Problem 9\n",
        "Retrieve the total running time of all of the films that Bill Murray has appeared in. Express this is \"number of days.\" (So, you need to convert somehow take the sum of the runtimes, and then convert minutes to days)."
      ],
      "metadata": {
        "id": "jJ7mhdXf1IoK"
      }
    },
    {
      "cell_type": "code",
      "source": [
        "%%sql\n",
        "--Your code here"
      ],
      "metadata": {
        "id": "-LEczMc0w_4H"
      },
      "execution_count": null,
      "outputs": []
    },
    {
      "cell_type": "markdown",
      "source": [
        "#Problem 10\n",
        "Retrieve the names of films that have have a person with a first name starting with \"WIll\" as director or an actor. Hint: You'll be doing two \"select\" statements with a UNION in the middle of them."
      ],
      "metadata": {
        "id": "xvghL_aI1tzb"
      }
    },
    {
      "cell_type": "code",
      "source": [
        "%%sql\n",
        "--Your code here"
      ],
      "metadata": {
        "id": "vz_XURTw2d2B"
      },
      "execution_count": null,
      "outputs": []
    },
    {
      "cell_type": "code",
      "source": [
        ""
      ],
      "metadata": {
        "id": "zBMU01zk2eIV"
      },
      "execution_count": null,
      "outputs": []
    }
  ]
}
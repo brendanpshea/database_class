{
  "nbformat": 4,
  "nbformat_minor": 0,
  "metadata": {
    "colab": {
      "name": "Lab: Basic SQL",
      "provenance": [],
      "collapsed_sections": [],
      "authorship_tag": "ABX9TyN5V+Tijq4YE8hAw9R+myji",
      "include_colab_link": true
    },
    "kernelspec": {
      "name": "python3",
      "display_name": "Python 3"
    },
    "language_info": {
      "name": "python"
    }
  },
  "cells": [
    {
      "cell_type": "markdown",
      "metadata": {
        "id": "view-in-github",
        "colab_type": "text"
      },
      "source": [
        "<a href=\"https://colab.research.google.com/github/brendanpshea/database_class/blob/main/Lab_Basic_SQL.ipynb\" target=\"_parent\"><img src=\"https://colab.research.google.com/assets/colab-badge.svg\" alt=\"Open In Colab\"/></a>"
      ]
    },
    {
      "cell_type": "markdown",
      "source": [
        "# Lab Directions\n",
        "For this lab, you'll be writing some basic SQL queries. Here is what you need to do:\n",
        "\n",
        "1. \"OPEN\" this lab in \"Google Colab\" and proceed to set up afree Google Colab account if you nned to: https://colab.research.google.com/. \n",
        "2. Save a copy of this lab to your Colab account. You'll want to connect to a \"runtime\".\n",
        "3. Work on the lab! To run code cells, you just need to click \"Ctrl + Enter.\" To edit cells, you can double click on the them.\n",
        "4. When you are done working on the lab, click on \"File: Download\" and choose the option to download it as .ipynb.\n",
        "5. Submit this file to D2L.\n",
        "\n",
        "Oh, and make sure to put your name here:\n",
        "\n",
        "NAME(s):\n",
        "\n",
        "---\n",
        "\n"
      ],
      "metadata": {
        "id": "tnHJoGBiE-bU"
      }
    },
    {
      "cell_type": "markdown",
      "source": [
        "#Problem 0: Run the cells below\n",
        "The following two cells  will get the Movie database set up. After you've run these cells (by hitting Ctrl + Enter), you should see the relational schema for each of the Movie databse tables.\n",
        "\n",
        "Note: The first time you run these cells, it may take a minute or two!\n",
        "\n"
      ],
      "metadata": {
        "id": "bC5zz1svGbQm"
      }
    },
    {
      "cell_type": "code",
      "execution_count": 1,
      "metadata": {
        "colab": {
          "base_uri": "https://localhost:8080/",
          "height": 53
        },
        "id": "Hf_9KzYYE7NX",
        "outputId": "e2cde760-516f-4c89-ee28-b501b31bdb34"
      },
      "outputs": [
        {
          "output_type": "stream",
          "name": "stdout",
          "text": [
            "  Building wheel for wget (setup.py) ... \u001b[?25l\u001b[?25hdone\n"
          ]
        },
        {
          "output_type": "execute_result",
          "data": {
            "application/vnd.google.colaboratory.intrinsic+json": {
              "type": "string"
            },
            "text/plain": [
              "'Connected: @/content/movie.sqlite'"
            ]
          },
          "metadata": {},
          "execution_count": 1
        }
      ],
      "source": [
        "# Some UNIX utilites we need to install for the lab.\n",
        "!pip install wget --quiet\n",
        "!pip install sqlalchemy --quiet\n",
        "!pip install ipython-sql --quiet\n",
        "\n",
        "# Now let's download the file we'll be using for this lab\n",
        "!wget 'https://github.com/brendanpshea/database_class/raw/main/movie.sqlite' -q\n",
        "\n",
        "# Let's make a connnection with the database\n",
        "%load_ext sql\n",
        "%sql sqlite:////content/movie.sqlite\n",
        "\n"
      ]
    },
    {
      "cell_type": "code",
      "source": [
        "# Get the schema\n",
        "%%sql \n",
        "SELECT name as \"Table Name\", sql as \"Schema of Table\" FROM sqlite_master where type = 'table';"
      ],
      "metadata": {
        "colab": {
          "base_uri": "https://localhost:8080/",
          "height": 249
        },
        "id": "9shK3XySHH8-",
        "outputId": "8c9e0050-8c3b-47b0-d2ac-1546b0ecd6ba"
      },
      "execution_count": 2,
      "outputs": [
        {
          "output_type": "stream",
          "name": "stdout",
          "text": [
            " * sqlite:////content/movie.sqlite\n",
            "Done.\n"
          ]
        },
        {
          "output_type": "execute_result",
          "data": {
            "text/html": [
              "<table>\n",
              "    <thead>\n",
              "        <tr>\n",
              "            <th>Table Name</th>\n",
              "            <th>Schema of Table</th>\n",
              "        </tr>\n",
              "    </thead>\n",
              "    <tbody>\n",
              "        <tr>\n",
              "            <td>Movie</td>\n",
              "            <td>CREATE TABLE Movie (id CHAR(7) PRIMARY KEY, name VARCHAR(64), year INTEGER, rating VARCHAR(5), runtime INTEGER, genre VARCHAR(16), earnings_rank INTEGER)</td>\n",
              "        </tr>\n",
              "        <tr>\n",
              "            <td>Person</td>\n",
              "            <td>CREATE TABLE Person (id CHAR(7) PRIMARY KEY, name VARCHAR(64), dob DATE, pob VARCHAR(128))</td>\n",
              "        </tr>\n",
              "        <tr>\n",
              "            <td>Actor</td>\n",
              "            <td>CREATE TABLE Actor (actor_id CHAR(7), movie_id CHAR(7), PRIMARY KEY (actor_id, movie_id), FOREIGN KEY (actor_id) REFERENCES Person(id), FOREIGN KEY (movie_id) REFERENCES Movie(id))</td>\n",
              "        </tr>\n",
              "        <tr>\n",
              "            <td>Director</td>\n",
              "            <td>CREATE TABLE Director(director_id CHAR(7), movie_id CHAR(7), PRIMARY KEY (director_id, movie_id), FOREIGN KEY (director_id) REFERENCES Person(id), FOREIGN KEY (movie_id) REFERENCES Movie(id))</td>\n",
              "        </tr>\n",
              "        <tr>\n",
              "            <td>Oscar</td>\n",
              "            <td>CREATE TABLE Oscar(movie_id CHAR(7), person_id CHAR(7), type VARCHAR(23), year INTEGER, PRIMARY KEY (person_id, type, year), FOREIGN KEY (movie_id) REFERENCES Movie(id), FOREIGN KEY (person_id) REFERENCES Person(id)<br>)</td>\n",
              "        </tr>\n",
              "    </tbody>\n",
              "</table>"
            ],
            "text/plain": [
              "[('Movie', 'CREATE TABLE Movie (id CHAR(7) PRIMARY KEY, name VARCHAR(64), year INTEGER, rating VARCHAR(5), runtime INTEGER, genre VARCHAR(16), earnings_rank INTEGER)'),\n",
              " ('Person', 'CREATE TABLE Person (id CHAR(7) PRIMARY KEY, name VARCHAR(64), dob DATE, pob VARCHAR(128))'),\n",
              " ('Actor', 'CREATE TABLE Actor (actor_id CHAR(7), movie_id CHAR(7), PRIMARY KEY (actor_id, movie_id), FOREIGN KEY (actor_id) REFERENCES Person(id), FOREIGN KEY (movie_id) REFERENCES Movie(id))'),\n",
              " ('Director', 'CREATE TABLE Director(director_id CHAR(7), movie_id CHAR(7), PRIMARY KEY (director_id, movie_id), FOREIGN KEY (director_id) REFERENCES Person(id), FOREIGN KEY (movie_id) REFERENCES Movie(id))'),\n",
              " ('Oscar', 'CREATE TABLE Oscar(movie_id CHAR(7), person_id CHAR(7), type VARCHAR(23), year INTEGER, PRIMARY KEY (person_id, type, year), FOREIGN KEY (movie_id) REFERENCES Movie(id), FOREIGN KEY (person_id) REFERENCES Person(id)\\n)')]"
            ]
          },
          "metadata": {},
          "execution_count": 2
        }
      ]
    },
    {
      "cell_type": "code",
      "source": [
        "# Show the first 5 rows of each table\n",
        "movie_df = %sql SELECT * FROM Movie LIMIT 5;\n",
        "person_df = %sql SELECT * FROM Person LIMIT 5;\n",
        "actor_df = %sql SELECT * FROM Actor LIMIT 5;\n",
        "director_df = %sql SELECT * FROM Director LIMIT 5;\n",
        "oscar_df = %sql SELECT * FROM Oscar LIMIT 5;\n",
        "print(movie_df,'\\n\\n',person_df, '\\n\\n', actor_df, '\\n\\n', director_df, '\\n\\n', oscar_df)"
      ],
      "metadata": {
        "colab": {
          "base_uri": "https://localhost:8080/"
        },
        "id": "Mvs3HAnzxmAB",
        "outputId": "92ceae3c-6be3-498a-efbe-ef0f26fce09f"
      },
      "execution_count": 39,
      "outputs": [
        {
          "output_type": "stream",
          "name": "stdout",
          "text": [
            " * sqlite:////content/movie.sqlite\n",
            "Done.\n",
            " * sqlite:////content/movie.sqlite\n",
            "Done.\n",
            " * sqlite:////content/movie.sqlite\n",
            "Done.\n",
            " * sqlite:////content/movie.sqlite\n",
            "Done.\n",
            " * sqlite:////content/movie.sqlite\n",
            "Done.\n",
            "+---------+------------------------------+------+--------+---------+-------+---------------+\n",
            "|    id   |             name             | year | rating | runtime | genre | earnings_rank |\n",
            "+---------+------------------------------+------+--------+---------+-------+---------------+\n",
            "| 2488496 | Star Wars: The Force Awakens | 2015 | PG-13  |   138   |   A   |       1       |\n",
            "| 4154796 |      Avengers: Endgame       | 2019 | PG-13  |   181   |  AVS  |       2       |\n",
            "| 0499549 |            Avatar            | 2009 | PG-13  |   162   |  AVYS |       3       |\n",
            "| 1825683 |        Black Panther         | 2018 | PG-13  |   134   |  AVS  |       4       |\n",
            "| 4154756 |    Avengers: Infinity War    | 2018 | PG-13  |   149   |  AVYS |       5       |\n",
            "+---------+------------------------------+------+--------+---------+-------+---------------+ \n",
            "\n",
            " +---------+-----------------+------------+-------------------------+\n",
            "|    id   |       name      |    dob     |           pob           |\n",
            "+---------+-----------------+------------+-------------------------+\n",
            "| 0000002 |  Lauren Bacall  | 1924-09-16 | New York, New York, USA |\n",
            "| 0000004 |   John Belushi  | 1949-01-24 |  Chicago, Illinois, USA |\n",
            "| 0000006 |  Ingrid Bergman | 1915-08-29 |    Stockholm, Sweden    |\n",
            "| 0000007 | Humphrey Bogart | 1899-12-25 | New York, New York, USA |\n",
            "| 0000008 |  Marlon Brando  | 1924-04-03 |   Omaha, Nebraska, USA  |\n",
            "+---------+-----------------+------------+-------------------------+ \n",
            "\n",
            " +----------+----------+\n",
            "| actor_id | movie_id |\n",
            "+----------+----------+\n",
            "| 0000138  | 0120338  |\n",
            "| 0000701  | 0120338  |\n",
            "| 0000708  | 0120338  |\n",
            "| 0000870  | 0120338  |\n",
            "| 0000200  | 0120338  |\n",
            "+----------+----------+ \n",
            "\n",
            " +-------------+----------+\n",
            "| director_id | movie_id |\n",
            "+-------------+----------+\n",
            "|   0000116   | 0120338  |\n",
            "|   0000184   | 0076759  |\n",
            "|   0011470   | 0298148  |\n",
            "|   0000229   | 0083866  |\n",
            "|   0000184   | 0120915  |\n",
            "+-------------+----------+ \n",
            "\n",
            " +----------+-----------+-------------------------+------+\n",
            "| movie_id | person_id |           type          | year |\n",
            "+----------+-----------+-------------------------+------+\n",
            "| 6751668  |    None   |       BEST-PICTURE      | 2020 |\n",
            "| 7286456  |  0001618  |        BEST-ACTOR       | 2020 |\n",
            "| 7549996  |  0000250  |       BEST-ACTRESS      | 2020 |\n",
            "| 7131622  |  0000093  |  BEST-SUPPORTING-ACTOR  | 2020 |\n",
            "| 7653254  |  0000368  | BEST-SUPPORTING-ACTRESS | 2020 |\n",
            "+----------+-----------+-------------------------+------+\n"
          ]
        }
      ]
    },
    {
      "cell_type": "code",
      "source": [
        "%%sql\n",
        "--feel free to type some queries here (and the run them) to see how they work!\n",
        "--You should only write ONE query per cell."
      ],
      "metadata": {
        "colab": {
          "base_uri": "https://localhost:8080/"
        },
        "id": "PkyBnLOI0jZa",
        "outputId": "7b248f5d-bb01-4806-b405-16d23f8c5da3"
      },
      "execution_count": 41,
      "outputs": [
        {
          "output_type": "stream",
          "name": "stdout",
          "text": [
            " * sqlite:////content/movie.sqlite\n",
            "0 rows affected.\n"
          ]
        },
        {
          "output_type": "execute_result",
          "data": {
            "text/plain": [
              "[]"
            ]
          },
          "metadata": {},
          "execution_count": 41
        }
      ]
    },
    {
      "cell_type": "markdown",
      "source": [
        "# Problem 1\n",
        "Retrieve the first 8 rows in the Oscar table ordered by Oscar type. Hint: You'll need to use SELECT, FROM, ORDER BY, and LIMIT. You'll want to retrieve all attributes using *."
      ],
      "metadata": {
        "id": "qGDlxmjiH3mc"
      }
    },
    {
      "cell_type": "code",
      "source": [
        "%%sql\n",
        "--Your code here"
      ],
      "metadata": {
        "colab": {
          "base_uri": "https://localhost:8080/"
        },
        "id": "L5D0klr9HQq6",
        "outputId": "328985c0-6d1a-4531-a51f-f59027837499"
      },
      "execution_count": 26,
      "outputs": [
        {
          "output_type": "stream",
          "name": "stdout",
          "text": [
            " * sqlite:////content/movie.sqlite\n",
            "0 rows affected.\n"
          ]
        },
        {
          "output_type": "execute_result",
          "data": {
            "text/plain": [
              "[]"
            ]
          },
          "metadata": {},
          "execution_count": 26
        }
      ]
    },
    {
      "cell_type": "markdown",
      "source": [
        "#Problem 2\n",
        "Retrieve a list of the different \"types\" of awards that are listed in the Oscar table. Hint: use DISTINCT."
      ],
      "metadata": {
        "id": "f9IMB6pyKD4N"
      }
    },
    {
      "cell_type": "code",
      "source": [
        "%%sql\n",
        "--Your code here"
      ],
      "metadata": {
        "colab": {
          "base_uri": "https://localhost:8080/"
        },
        "id": "nWh1jd4IKOcv",
        "outputId": "3bb8d573-83f7-45cb-b551-e9106b2341d5"
      },
      "execution_count": 25,
      "outputs": [
        {
          "output_type": "stream",
          "name": "stdout",
          "text": [
            " * sqlite:////content/movie.sqlite\n",
            "0 rows affected.\n"
          ]
        },
        {
          "output_type": "execute_result",
          "data": {
            "text/plain": [
              "[]"
            ]
          },
          "metadata": {},
          "execution_count": 25
        }
      ]
    },
    {
      "cell_type": "markdown",
      "source": [
        "#Problem 3\n",
        "Retrieve the number of distinct directors that are represented in the Director table. Hint, you'll neeed to use both COUNT and DISTINCT. You only want each \"director_id\" to be counted once."
      ],
      "metadata": {
        "id": "OtbJVjp8I4Wx"
      }
    },
    {
      "cell_type": "code",
      "source": [
        "%%sql\n",
        "--Your code here"
      ],
      "metadata": {
        "colab": {
          "base_uri": "https://localhost:8080/"
        },
        "id": "KgpBDh-ZJRm8",
        "outputId": "314cf693-6272-4afb-8de6-4daef361358e"
      },
      "execution_count": 24,
      "outputs": [
        {
          "output_type": "stream",
          "name": "stdout",
          "text": [
            " * sqlite:////content/movie.sqlite\n",
            "0 rows affected.\n"
          ]
        },
        {
          "output_type": "execute_result",
          "data": {
            "text/plain": [
              "[]"
            ]
          },
          "metadata": {},
          "execution_count": 24
        }
      ]
    },
    {
      "cell_type": "markdown",
      "source": [
        "#Problem 4\n",
        "Retrieve the name and release year of movies that start with the word 'Captain.'"
      ],
      "metadata": {
        "id": "BpX4eX6ZKZLX"
      }
    },
    {
      "cell_type": "code",
      "source": [
        "%%sql\n",
        "--Your code here"
      ],
      "metadata": {
        "colab": {
          "base_uri": "https://localhost:8080/"
        },
        "id": "wkzDrf30sv5d",
        "outputId": "4a561f10-f307-4f25-81d5-c75182650037"
      },
      "execution_count": 23,
      "outputs": [
        {
          "output_type": "stream",
          "name": "stdout",
          "text": [
            " * sqlite:////content/movie.sqlite\n",
            "0 rows affected.\n"
          ]
        },
        {
          "output_type": "execute_result",
          "data": {
            "text/plain": [
              "[]"
            ]
          },
          "metadata": {},
          "execution_count": 23
        }
      ]
    },
    {
      "cell_type": "markdown",
      "source": [
        "#Problem 5\n",
        "Retrieve the name and place of birth of all Persons born in \"Minnesota, USA\". Order them in descending order by name."
      ],
      "metadata": {
        "id": "kO4l-E_ZtxkW"
      }
    },
    {
      "cell_type": "code",
      "source": [
        "%%sql\n",
        "--Your code here"
      ],
      "metadata": {
        "colab": {
          "base_uri": "https://localhost:8080/"
        },
        "id": "9dL6qaLTuBwR",
        "outputId": "e5f6e3a5-0e50-48d9-98c6-a6ed41396d73"
      },
      "execution_count": 22,
      "outputs": [
        {
          "output_type": "stream",
          "name": "stdout",
          "text": [
            " * sqlite:////content/movie.sqlite\n",
            "0 rows affected.\n"
          ]
        },
        {
          "output_type": "execute_result",
          "data": {
            "text/plain": [
              "[]"
            ]
          },
          "metadata": {},
          "execution_count": 22
        }
      ]
    },
    {
      "cell_type": "markdown",
      "source": [
        "#Problem 6\n",
        "Retrieve the names and release years of movies that have won a 'Best Picture' Oscar. Limit the results to 10. Hint: You'll need to JOIN Oscar and Movie using Oscar.movie_id and Movie.id. You'll also need to think about Oscar.type and Movie.year."
      ],
      "metadata": {
        "id": "us2Y7FazugHA"
      }
    },
    {
      "cell_type": "code",
      "source": [
        "%%sql\n",
        "--Your code here"
      ],
      "metadata": {
        "colab": {
          "base_uri": "https://localhost:8080/"
        },
        "id": "jOMicRA9KX7k",
        "outputId": "d9bf4af2-f6bc-4cd6-e4e8-bfef712220f3"
      },
      "execution_count": 21,
      "outputs": [
        {
          "output_type": "stream",
          "name": "stdout",
          "text": [
            " * sqlite:////content/movie.sqlite\n",
            "0 rows affected.\n"
          ]
        },
        {
          "output_type": "execute_result",
          "data": {
            "text/plain": [
              "[]"
            ]
          },
          "metadata": {},
          "execution_count": 21
        }
      ]
    },
    {
      "cell_type": "markdown",
      "source": [
        "#Problem 7\n",
        "Retrieve the names of all Persons who have won a 'BEST-ACTRESS' award since 1990. Hint: You'll need to JOIN Persons with Oscar."
      ],
      "metadata": {
        "id": "0PXTuEi2vOtq"
      }
    },
    {
      "cell_type": "code",
      "source": [
        "%%sql\n",
        "--Your code here"
      ],
      "metadata": {
        "colab": {
          "base_uri": "https://localhost:8080/"
        },
        "id": "b93S8mSlwHKi",
        "outputId": "1109bbb3-0579-4f9b-9ec2-ebfb5e21eab1"
      },
      "execution_count": 19,
      "outputs": [
        {
          "output_type": "stream",
          "name": "stdout",
          "text": [
            " * sqlite:////content/movie.sqlite\n",
            "0 rows affected.\n"
          ]
        },
        {
          "output_type": "execute_result",
          "data": {
            "text/plain": [
              "[]"
            ]
          },
          "metadata": {},
          "execution_count": 19
        }
      ]
    },
    {
      "cell_type": "markdown",
      "source": [
        "#Problem 8\n",
        "Retrieve the COUNT of actors who appeared in a film in 2012. Name this column that is returned \"2012 Actors.\" Hint: You'll need to JOIN Actor with Movie. And rememember to count only \"distinct\" actor_ids (since some actors will have appeared in multiple movies)."
      ],
      "metadata": {
        "id": "MrUfbrHewLZG"
      }
    },
    {
      "cell_type": "code",
      "source": [
        "%%sql\n",
        "--Your code here"
      ],
      "metadata": {
        "colab": {
          "base_uri": "https://localhost:8080/"
        },
        "id": "BPv7r1kmwptB",
        "outputId": "63e712a9-c63a-415b-f3ed-eafc1b9ae77e"
      },
      "execution_count": 20,
      "outputs": [
        {
          "output_type": "stream",
          "name": "stdout",
          "text": [
            " * sqlite:////content/movie.sqlite\n",
            "0 rows affected.\n"
          ]
        },
        {
          "output_type": "execute_result",
          "data": {
            "text/plain": [
              "[]"
            ]
          },
          "metadata": {},
          "execution_count": 20
        }
      ]
    },
    {
      "cell_type": "markdown",
      "source": [
        "#Problem 9\n",
        "Retrieve the total running time of all of the films that Bill Murray has appeared in. Express this is \"number of days.\" (So, you need to convert somehow take the sum of the runtimes, and then convert minutes to days)."
      ],
      "metadata": {
        "id": "jJ7mhdXf1IoK"
      }
    },
    {
      "cell_type": "code",
      "source": [
        "%%sql\n",
        "--Your code here"
      ],
      "metadata": {
        "id": "-LEczMc0w_4H"
      },
      "execution_count": null,
      "outputs": []
    },
    {
      "cell_type": "markdown",
      "source": [
        "#Problem 10\n",
        "Retrieve the names of films that have have a person with a first name starting with \"WIll\" as director or an actor. Hint: You'll be doing two \"select\" statements with a UNION in the middle of them."
      ],
      "metadata": {
        "id": "xvghL_aI1tzb"
      }
    },
    {
      "cell_type": "code",
      "source": [
        "%%sql\n",
        "--Your code here"
      ],
      "metadata": {
        "colab": {
          "base_uri": "https://localhost:8080/"
        },
        "id": "vz_XURTw2d2B",
        "outputId": "99e5a69f-d33a-4d12-bac0-7552b562ad0e"
      },
      "execution_count": 64,
      "outputs": [
        {
          "output_type": "stream",
          "name": "stdout",
          "text": [
            " * sqlite:////content/movie.sqlite\n",
            "0 rows affected.\n"
          ]
        },
        {
          "output_type": "execute_result",
          "data": {
            "text/plain": [
              "[]"
            ]
          },
          "metadata": {},
          "execution_count": 64
        }
      ]
    },
    {
      "cell_type": "code",
      "source": [
        ""
      ],
      "metadata": {
        "id": "zBMU01zk2eIV"
      },
      "execution_count": null,
      "outputs": []
    }
  ]
}
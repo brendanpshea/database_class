{
  "nbformat": 4,
  "nbformat_minor": 0,
  "metadata": {
    "colab": {
      "name": "Introduction to SQL",
      "provenance": [],
      "collapsed_sections": [],
      "authorship_tag": "ABX9TyPGKgoZPcdz5Be42zniskOu",
      "include_colab_link": true
    },
    "kernelspec": {
      "name": "python3",
      "display_name": "Python 3"
    },
    "language_info": {
      "name": "python"
    }
  },
  "cells": [
    {
      "cell_type": "markdown",
      "metadata": {
        "id": "view-in-github",
        "colab_type": "text"
      },
      "source": [
        "<a href=\"https://colab.research.google.com/github/brendanpshea/database_class/blob/main/Introduction_to_SQL.ipynb\" target=\"_parent\"><img src=\"https://colab.research.google.com/assets/colab-badge.svg\" alt=\"Open In Colab\"/></a>"
      ]
    },
    {
      "cell_type": "markdown",
      "source": [
        "# 0. Introduction to Structured Query Language\n",
        "### Brendan Shea, PhD (Brendan.Shea@rctc.edu) | Database and SQL Lecture Notes\n",
        "This is the first in a set of interactive \"lectures\" designed to teach \"Structured Query Language\" (SQL). Five quick notes about SQL:\n",
        "1. SQL is a declarative, non-procedural programming language used to interact with relational databases. That is, you'll use SQL to tell the computer \"what sort of infomration you want\" and NOT \"how to get this information.\" This is very different from procedural languages like Python or Java, and is much more closely related to areas like formal logic or set theory.\n",
        "2. Like many programming languages, SQL is \"standardized\" by the American National Standards Institute (ANSI). This ensures that what much of you learn here will be generally applicable regardless of what particular relational database you wnat to work with.\n",
        "3. SQL is simple! There are are relatively few commands (\\< 100) in ANSI standard SQL and the vast majorrity of the work is done by 25 or so.\n",
        "4. The fun (and challenge!) of SQL comes from trying to put these limited commands to work.You can learn the basics of SQL in 30 minutes. Learning to Wrie a correct, efficient SQL query can be a life's work.\n",
        "5. These notes (as well as the accompanying labs) are delivered via a Python-based \"Jupyter\" notebook. You don't need to know any Python to use these notebooks. However, there are a very common way of doing data analysis, statistics, and data science. (So, I'd encourage you to play around with them).\n",
        "\n",
        "Mainly, we'll be working through a series of sample queries, so you can get a sense of how SQL works."
      ],
      "metadata": {
        "id": "JqoCmEgI8LA2"
      }
    },
    {
      "cell_type": "markdown",
      "source": [
        "## 1. Getting the Environment Set Up\n",
        "Here, we're going to be setting SQLite as our relational database server. You don't really need to worry about the details, but basically we're going to:\n",
        "1. Install some unix and python utilities allowing us to download files and interact with databases.\n",
        "2. Download a SQLite database called \"movie.sqlite\"\n",
        "3. Lauch a SQLite server and connect to this database.\n",
        "4. This will all be done automatically--just \"run\" this cell by hitting \"Ctrl-Enter\".\n",
        "\n",
        "SQLite is frequently used for when a single user/application wants to access a database, and is one of the most commonly installed applications in modern computing (you probably have multiple copies on your phone/computer right now--you just don't know it!). \n",
        "\n",
        "Once we've started up our SQL server, we'll load the \"Movie\" database into memory, so we can play with it. (Note: We'll be making a new copy of this database each time we reload the notebook, so don't worry about changing/deleting it when you are doing exercises).\n",
        "\n",
        "NOTE: Please don't alter the following code cell! I don't "
      ],
      "metadata": {
        "id": "CNiz_K46_snl"
      }
    },
    {
      "cell_type": "code",
      "source": [
        "# Some UNIX utilites we need to install for the lab.\n",
        "!pip install wget --quiet\n",
        "!pip install sqlalchemy --quiet\n",
        "!pip install ipython-sql --quiet\n",
        "\n",
        "# Now let's download the file we'll be using for this lab\n",
        "!wget 'https://github.com/brendanpshea/database_class/raw/main/movie.sqlite' -q\n",
        "\n",
        "# Finally, let's make a connnection with the databse\n",
        "%load_ext sql\n",
        "%sql sqlite:////content/movie.sqlite"
      ],
      "metadata": {
        "colab": {
          "base_uri": "https://localhost:8080/",
          "height": 53
        },
        "id": "qW9N195nAaNm",
        "outputId": "b2207d91-62a9-4523-f67e-ad8435f266b4"
      },
      "execution_count": 1,
      "outputs": [
        {
          "output_type": "stream",
          "name": "stdout",
          "text": [
            "  Building wheel for wget (setup.py) ... \u001b[?25l\u001b[?25hdone\n"
          ]
        },
        {
          "output_type": "execute_result",
          "data": {
            "application/vnd.google.colaboratory.intrinsic+json": {
              "type": "string"
            },
            "text/plain": [
              "'Connected: @/content/movie.sqlite'"
            ]
          },
          "metadata": {},
          "execution_count": 1
        }
      ]
    },
    {
      "cell_type": "markdown",
      "source": [
        "# 2. Getting to Know Our Tables\n",
        "In this section, we'll get acquainted with the relational schema of our database, and start exploring it using SELECT commands. A SELECT commands is SQL's way of \"Reading\" data from the database. You'll notice I start each of the code cells with a %% sql, like so:\n",
        "\n",
        "```\n",
        "%%sql \n",
        "# Write your SQL query here\n",
        "```\n",
        "This \"tells\" the Jupyter notebook I want it to treat everything else in the cell as a SQL command. "
      ],
      "metadata": {
        "id": "PmUMLlW4CpRP"
      }
    },
    {
      "cell_type": "markdown",
      "source": [
        "## Examining the Database Schema\n",
        "Let's begin by taking a look at what tables we have. The command you need here will vary by DBMS (and I won't ask you to do it on a lab/exam), but the general rule is that relational databases will store the \"relational schema\" for the tables in your database inside their own \"system\" tables (the documentation will tell you what the names of these tables are). And you can query these tables using SQL! \n",
        "\n",
        "Right now, though, I just want you to take a look at what tables we have and at the \"CREATE\" table statements that were originally used to create them. You'll notice that our (SIMPLE!) table has data types that include:\n",
        "1. Strings of variable length (VARCHARS)\n",
        "2. Strings of fixed length (CHARS)\n",
        "3. Integers (INTEGERS)\n",
        "4. Dates (DATES)\n",
        "\n",
        "You'll also notice that our core \"strong\" tables are Movie and Person. They have their \"own\" primary keys that aren't foreign keys to other tables. The other tables (ACTOR, DIRECTOR, OSCAR) are \"weak\" tables that serve to relate these tables in various ways. (E.g., a certain person \"acted in\" a particular movie but \"directed\" a different movie)."
      ],
      "metadata": {
        "id": "IpJ_IcCoEx4a"
      }
    },
    {
      "cell_type": "code",
      "source": [
        "%%sql \n",
        "SELECT name as \"Table Name\", sql as \"Schema of Table\" FROM sqlite_master where type = 'table';"
      ],
      "metadata": {
        "colab": {
          "base_uri": "https://localhost:8080/",
          "height": 249
        },
        "id": "CHntiRxOC-HA",
        "outputId": "8ff2302e-d4c9-45da-d5ca-0e83725bbbf9"
      },
      "execution_count": 2,
      "outputs": [
        {
          "output_type": "stream",
          "name": "stdout",
          "text": [
            " * sqlite:////content/movie.sqlite\n",
            "Done.\n"
          ]
        },
        {
          "output_type": "execute_result",
          "data": {
            "text/html": [
              "<table>\n",
              "    <thead>\n",
              "        <tr>\n",
              "            <th>Table Name</th>\n",
              "            <th>Schema of Table</th>\n",
              "        </tr>\n",
              "    </thead>\n",
              "    <tbody>\n",
              "        <tr>\n",
              "            <td>Movie</td>\n",
              "            <td>CREATE TABLE Movie (id CHAR(7) PRIMARY KEY, name VARCHAR(64), year INTEGER, rating VARCHAR(5), runtime INTEGER, genre VARCHAR(16), earnings_rank INTEGER)</td>\n",
              "        </tr>\n",
              "        <tr>\n",
              "            <td>Person</td>\n",
              "            <td>CREATE TABLE Person (id CHAR(7) PRIMARY KEY, name VARCHAR(64), dob DATE, pob VARCHAR(128))</td>\n",
              "        </tr>\n",
              "        <tr>\n",
              "            <td>Actor</td>\n",
              "            <td>CREATE TABLE Actor (actor_id CHAR(7), movie_id CHAR(7), PRIMARY KEY (actor_id, movie_id), FOREIGN KEY (actor_id) REFERENCES Person(id), FOREIGN KEY (movie_id) REFERENCES Movie(id))</td>\n",
              "        </tr>\n",
              "        <tr>\n",
              "            <td>Director</td>\n",
              "            <td>CREATE TABLE Director(director_id CHAR(7), movie_id CHAR(7), PRIMARY KEY (director_id, movie_id), FOREIGN KEY (director_id) REFERENCES Person(id), FOREIGN KEY (movie_id) REFERENCES Movie(id))</td>\n",
              "        </tr>\n",
              "        <tr>\n",
              "            <td>Oscar</td>\n",
              "            <td>CREATE TABLE Oscar(movie_id CHAR(7), person_id CHAR(7), type VARCHAR(23), year INTEGER, PRIMARY KEY (person_id, type, year), FOREIGN KEY (movie_id) REFERENCES Movie(id), FOREIGN KEY (person_id) REFERENCES Person(id)<br>)</td>\n",
              "        </tr>\n",
              "    </tbody>\n",
              "</table>"
            ],
            "text/plain": [
              "[('Movie', 'CREATE TABLE Movie (id CHAR(7) PRIMARY KEY, name VARCHAR(64), year INTEGER, rating VARCHAR(5), runtime INTEGER, genre VARCHAR(16), earnings_rank INTEGER)'),\n",
              " ('Person', 'CREATE TABLE Person (id CHAR(7) PRIMARY KEY, name VARCHAR(64), dob DATE, pob VARCHAR(128))'),\n",
              " ('Actor', 'CREATE TABLE Actor (actor_id CHAR(7), movie_id CHAR(7), PRIMARY KEY (actor_id, movie_id), FOREIGN KEY (actor_id) REFERENCES Person(id), FOREIGN KEY (movie_id) REFERENCES Movie(id))'),\n",
              " ('Director', 'CREATE TABLE Director(director_id CHAR(7), movie_id CHAR(7), PRIMARY KEY (director_id, movie_id), FOREIGN KEY (director_id) REFERENCES Person(id), FOREIGN KEY (movie_id) REFERENCES Movie(id))'),\n",
              " ('Oscar', 'CREATE TABLE Oscar(movie_id CHAR(7), person_id CHAR(7), type VARCHAR(23), year INTEGER, PRIMARY KEY (person_id, type, year), FOREIGN KEY (movie_id) REFERENCES Movie(id), FOREIGN KEY (person_id) REFERENCES Person(id)\\n)')]"
            ]
          },
          "metadata": {},
          "execution_count": 2
        }
      ]
    },
    {
      "cell_type": "markdown",
      "source": [
        "# 3. Using SELECT, LIMIT, and COUNT\n",
        "A simple SELECT retrieves EVERY row from a table. It works like this:\n",
        "\n",
        "```\n",
        "# Show selected attributes for all rows\n",
        "SELECT attribute_1, attribute_2, etc. FROM table;\n",
        " \n",
        "# Show all attributes for all rows\n",
        "SELECT * FROM table; \n",
        "\n",
        "# Just show me the first five rows\n",
        "SELECT * FROM table LIMIT 5;\n",
        "\n",
        "```\n",
        "\n",
        "Let's see it in action!"
      ],
      "metadata": {
        "id": "DBA9oO3FKTbT"
      }
    },
    {
      "cell_type": "code",
      "source": [
        "# Let's begin by all attributes for the first five rows\n",
        "%%sql \n",
        "\n",
        "SELECT * FROM Movie LIMIT 5;"
      ],
      "metadata": {
        "colab": {
          "base_uri": "https://localhost:8080/",
          "height": 179
        },
        "id": "atptoWybFpM1",
        "outputId": "d9cce310-afa4-4b0c-ab4d-5735b568966c"
      },
      "execution_count": 3,
      "outputs": [
        {
          "output_type": "stream",
          "name": "stdout",
          "text": [
            " * sqlite:////content/movie.sqlite\n",
            "Done.\n"
          ]
        },
        {
          "output_type": "execute_result",
          "data": {
            "text/html": [
              "<table>\n",
              "    <thead>\n",
              "        <tr>\n",
              "            <th>id</th>\n",
              "            <th>name</th>\n",
              "            <th>year</th>\n",
              "            <th>rating</th>\n",
              "            <th>runtime</th>\n",
              "            <th>genre</th>\n",
              "            <th>earnings_rank</th>\n",
              "        </tr>\n",
              "    </thead>\n",
              "    <tbody>\n",
              "        <tr>\n",
              "            <td>2488496</td>\n",
              "            <td>Star Wars: The Force Awakens</td>\n",
              "            <td>2015</td>\n",
              "            <td>PG-13</td>\n",
              "            <td>138</td>\n",
              "            <td>A</td>\n",
              "            <td>1</td>\n",
              "        </tr>\n",
              "        <tr>\n",
              "            <td>4154796</td>\n",
              "            <td>Avengers: Endgame</td>\n",
              "            <td>2019</td>\n",
              "            <td>PG-13</td>\n",
              "            <td>181</td>\n",
              "            <td>AVS</td>\n",
              "            <td>2</td>\n",
              "        </tr>\n",
              "        <tr>\n",
              "            <td>0499549</td>\n",
              "            <td>Avatar</td>\n",
              "            <td>2009</td>\n",
              "            <td>PG-13</td>\n",
              "            <td>162</td>\n",
              "            <td>AVYS</td>\n",
              "            <td>3</td>\n",
              "        </tr>\n",
              "        <tr>\n",
              "            <td>1825683</td>\n",
              "            <td>Black Panther</td>\n",
              "            <td>2018</td>\n",
              "            <td>PG-13</td>\n",
              "            <td>134</td>\n",
              "            <td>AVS</td>\n",
              "            <td>4</td>\n",
              "        </tr>\n",
              "        <tr>\n",
              "            <td>4154756</td>\n",
              "            <td>Avengers: Infinity War</td>\n",
              "            <td>2018</td>\n",
              "            <td>PG-13</td>\n",
              "            <td>149</td>\n",
              "            <td>AVYS</td>\n",
              "            <td>5</td>\n",
              "        </tr>\n",
              "    </tbody>\n",
              "</table>"
            ],
            "text/plain": [
              "[('2488496', 'Star Wars: The Force Awakens', 2015, 'PG-13', 138, 'A', 1),\n",
              " ('4154796', 'Avengers: Endgame', 2019, 'PG-13', 181, 'AVS', 2),\n",
              " ('0499549', 'Avatar', 2009, 'PG-13', 162, 'AVYS', 3),\n",
              " ('1825683', 'Black Panther', 2018, 'PG-13', 134, 'AVS', 4),\n",
              " ('4154756', 'Avengers: Infinity War', 2018, 'PG-13', 149, 'AVYS', 5)]"
            ]
          },
          "metadata": {},
          "execution_count": 3
        }
      ]
    },
    {
      "cell_type": "code",
      "source": [
        "# OR, we could just retrive the \"name\" and \"year\" columns\n",
        "%%sql \n",
        "\n",
        "SELECT name, year FROM Movie LIMIT 3;"
      ],
      "metadata": {
        "colab": {
          "base_uri": "https://localhost:8080/",
          "height": 137
        },
        "id": "uFqNLoqbLaUd",
        "outputId": "9d0df1c7-90c4-42c5-fc57-9af016196d75"
      },
      "execution_count": 4,
      "outputs": [
        {
          "output_type": "stream",
          "name": "stdout",
          "text": [
            " * sqlite:////content/movie.sqlite\n",
            "Done.\n"
          ]
        },
        {
          "output_type": "execute_result",
          "data": {
            "text/html": [
              "<table>\n",
              "    <thead>\n",
              "        <tr>\n",
              "            <th>name</th>\n",
              "            <th>year</th>\n",
              "        </tr>\n",
              "    </thead>\n",
              "    <tbody>\n",
              "        <tr>\n",
              "            <td>Star Wars: The Force Awakens</td>\n",
              "            <td>2015</td>\n",
              "        </tr>\n",
              "        <tr>\n",
              "            <td>Avengers: Endgame</td>\n",
              "            <td>2019</td>\n",
              "        </tr>\n",
              "        <tr>\n",
              "            <td>Avatar</td>\n",
              "            <td>2009</td>\n",
              "        </tr>\n",
              "    </tbody>\n",
              "</table>"
            ],
            "text/plain": [
              "[('Star Wars: The Force Awakens', 2015),\n",
              " ('Avengers: Endgame', 2019),\n",
              " ('Avatar', 2009)]"
            ]
          },
          "metadata": {},
          "execution_count": 4
        }
      ]
    },
    {
      "cell_type": "code",
      "source": [
        "# COUNT can tell us how many rows are returned.\n",
        "# This is often more useful than listing the rows out one by one\n",
        "%%sql \n",
        "\n",
        "SELECT COUNT(*) FROM Person;"
      ],
      "metadata": {
        "colab": {
          "base_uri": "https://localhost:8080/",
          "height": 95
        },
        "id": "aV9XSk1hLuXg",
        "outputId": "587ce89f-61e2-4964-b573-f779cf3bf1b6"
      },
      "execution_count": 5,
      "outputs": [
        {
          "output_type": "stream",
          "name": "stdout",
          "text": [
            " * sqlite:////content/movie.sqlite\n",
            "Done.\n"
          ]
        },
        {
          "output_type": "execute_result",
          "data": {
            "text/html": [
              "<table>\n",
              "    <thead>\n",
              "        <tr>\n",
              "            <th>COUNT(*)</th>\n",
              "        </tr>\n",
              "    </thead>\n",
              "    <tbody>\n",
              "        <tr>\n",
              "            <td>2627</td>\n",
              "        </tr>\n",
              "    </tbody>\n",
              "</table>"
            ],
            "text/plain": [
              "[(2627,)]"
            ]
          },
          "metadata": {},
          "execution_count": 5
        }
      ]
    },
    {
      "cell_type": "markdown",
      "source": [
        "# 4. Keeping Things DISTINCT\n",
        "Our simple SELECTS from the previous section returned every single row. Sometimes, though, we just want the unique (of DISTINCT) values. Here are two examples, showing the difference this can make. We'll try to answer the question: \"What are the different types of movie ratings (PG, R, etc.) that are in our database?\"\n"
      ],
      "metadata": {
        "id": "juq4td4dOMoW"
      }
    },
    {
      "cell_type": "code",
      "source": [
        "# First, let's do it without distinct\n",
        "%%sql\n",
        "\n",
        "SELECT rating FROM Movie LIMIT 10;"
      ],
      "metadata": {
        "colab": {
          "base_uri": "https://localhost:8080/",
          "height": 284
        },
        "id": "TJ18vJ3GL2q5",
        "outputId": "f0328de0-62c5-455f-e23e-0195ef298c63"
      },
      "execution_count": 6,
      "outputs": [
        {
          "output_type": "stream",
          "name": "stdout",
          "text": [
            " * sqlite:////content/movie.sqlite\n",
            "Done.\n"
          ]
        },
        {
          "output_type": "execute_result",
          "data": {
            "text/html": [
              "<table>\n",
              "    <thead>\n",
              "        <tr>\n",
              "            <th>rating</th>\n",
              "        </tr>\n",
              "    </thead>\n",
              "    <tbody>\n",
              "        <tr>\n",
              "            <td>PG-13</td>\n",
              "        </tr>\n",
              "        <tr>\n",
              "            <td>PG-13</td>\n",
              "        </tr>\n",
              "        <tr>\n",
              "            <td>PG-13</td>\n",
              "        </tr>\n",
              "        <tr>\n",
              "            <td>PG-13</td>\n",
              "        </tr>\n",
              "        <tr>\n",
              "            <td>PG-13</td>\n",
              "        </tr>\n",
              "        <tr>\n",
              "            <td>PG-13</td>\n",
              "        </tr>\n",
              "        <tr>\n",
              "            <td>PG-13</td>\n",
              "        </tr>\n",
              "        <tr>\n",
              "            <td>PG-13</td>\n",
              "        </tr>\n",
              "        <tr>\n",
              "            <td>PG-13</td>\n",
              "        </tr>\n",
              "        <tr>\n",
              "            <td>PG</td>\n",
              "        </tr>\n",
              "    </tbody>\n",
              "</table>"
            ],
            "text/plain": [
              "[('PG-13',),\n",
              " ('PG-13',),\n",
              " ('PG-13',),\n",
              " ('PG-13',),\n",
              " ('PG-13',),\n",
              " ('PG-13',),\n",
              " ('PG-13',),\n",
              " ('PG-13',),\n",
              " ('PG-13',),\n",
              " ('PG',)]"
            ]
          },
          "metadata": {},
          "execution_count": 6
        }
      ]
    },
    {
      "cell_type": "code",
      "source": [
        "# How many rows were returned from that query?\n",
        "%%sql\n",
        "\n",
        "SELECT COUNT(rating) FROM Movie;"
      ],
      "metadata": {
        "colab": {
          "base_uri": "https://localhost:8080/",
          "height": 95
        },
        "id": "1m5JEait_wRG",
        "outputId": "f3bea643-1dc2-4e91-fd9d-3ad0d88c1eb7"
      },
      "execution_count": 7,
      "outputs": [
        {
          "output_type": "stream",
          "name": "stdout",
          "text": [
            " * sqlite:////content/movie.sqlite\n",
            "Done.\n"
          ]
        },
        {
          "output_type": "execute_result",
          "data": {
            "text/html": [
              "<table>\n",
              "    <thead>\n",
              "        <tr>\n",
              "            <th>COUNT(rating)</th>\n",
              "        </tr>\n",
              "    </thead>\n",
              "    <tbody>\n",
              "        <tr>\n",
              "            <td>590</td>\n",
              "        </tr>\n",
              "    </tbody>\n",
              "</table>"
            ],
            "text/plain": [
              "[(590,)]"
            ]
          },
          "metadata": {},
          "execution_count": 7
        }
      ]
    },
    {
      "cell_type": "code",
      "source": [
        "# Now, we can do with DISTINCT -- notice the difference!\n",
        "%%sql\n",
        "\n",
        "SELECT DISTINCT rating FROM Movie;"
      ],
      "metadata": {
        "colab": {
          "base_uri": "https://localhost:8080/",
          "height": 242
        },
        "id": "J2Y18RyoO14D",
        "outputId": "319da17a-6d4e-4d03-c86c-1cfa60d169cd"
      },
      "execution_count": 8,
      "outputs": [
        {
          "output_type": "stream",
          "name": "stdout",
          "text": [
            " * sqlite:////content/movie.sqlite\n",
            "Done.\n"
          ]
        },
        {
          "output_type": "execute_result",
          "data": {
            "text/html": [
              "<table>\n",
              "    <thead>\n",
              "        <tr>\n",
              "            <th>rating</th>\n",
              "        </tr>\n",
              "    </thead>\n",
              "    <tbody>\n",
              "        <tr>\n",
              "            <td>PG-13</td>\n",
              "        </tr>\n",
              "        <tr>\n",
              "            <td>PG</td>\n",
              "        </tr>\n",
              "        <tr>\n",
              "            <td>G</td>\n",
              "        </tr>\n",
              "        <tr>\n",
              "            <td>R</td>\n",
              "        </tr>\n",
              "        <tr>\n",
              "            <td>NC-17</td>\n",
              "        </tr>\n",
              "        <tr>\n",
              "            <td>M</td>\n",
              "        </tr>\n",
              "        <tr>\n",
              "            <td>GP</td>\n",
              "        </tr>\n",
              "        <tr>\n",
              "            <td>None</td>\n",
              "        </tr>\n",
              "    </tbody>\n",
              "</table>"
            ],
            "text/plain": [
              "[('PG-13',), ('PG',), ('G',), ('R',), ('NC-17',), ('M',), ('GP',), (None,)]"
            ]
          },
          "metadata": {},
          "execution_count": 8
        }
      ]
    },
    {
      "cell_type": "code",
      "source": [
        "# We can again COUNT the rows returned.\n",
        "%%sql \n",
        "SELECT COUNT(DISTINCT rating) FROM Movie;"
      ],
      "metadata": {
        "colab": {
          "base_uri": "https://localhost:8080/",
          "height": 95
        },
        "id": "fk6nNJixAC5q",
        "outputId": "e25d07bd-aebf-47d6-8dc1-a3d54bb81f1b"
      },
      "execution_count": 9,
      "outputs": [
        {
          "output_type": "stream",
          "name": "stdout",
          "text": [
            " * sqlite:////content/movie.sqlite\n",
            "Done.\n"
          ]
        },
        {
          "output_type": "execute_result",
          "data": {
            "text/html": [
              "<table>\n",
              "    <thead>\n",
              "        <tr>\n",
              "            <th>COUNT(DISTINCT rating)</th>\n",
              "        </tr>\n",
              "    </thead>\n",
              "    <tbody>\n",
              "        <tr>\n",
              "            <td>7</td>\n",
              "        </tr>\n",
              "    </tbody>\n",
              "</table>"
            ],
            "text/plain": [
              "[(7,)]"
            ]
          },
          "metadata": {},
          "execution_count": 9
        }
      ]
    },
    {
      "cell_type": "markdown",
      "source": [
        "# 5. Column Aliases and ORDER BY\n",
        "So far, we've basically let SQL display the rows of our SELECT queries in whatever the \"default\" setting happens to be. However, for real-world purposes (when we actually want to *use* this data), we often want it to be presented in particular order and format. SQL lets us do this. Here, we'll do the following:\n",
        "1. Create new column labels (or \"aliases\") by using the AS keyword\n",
        "2. Changing the order of rows by using ORDER BY "
      ],
      "metadata": {
        "id": "Q3oe2Jf_xZj1"
      }
    },
    {
      "cell_type": "code",
      "source": [
        "# To start, let's take a look at the Movie table\n",
        "# Notice the results don't seem to be any usable order\n",
        "%%sql\n",
        "\n",
        "SELECT id, name, year from Movie LIMIT 5;"
      ],
      "metadata": {
        "id": "Z4YP1IQoPCbp",
        "colab": {
          "base_uri": "https://localhost:8080/",
          "height": 179
        },
        "outputId": "50406559-23fe-485e-be74-bce64c9f4e5d"
      },
      "execution_count": 10,
      "outputs": [
        {
          "output_type": "stream",
          "name": "stdout",
          "text": [
            " * sqlite:////content/movie.sqlite\n",
            "Done.\n"
          ]
        },
        {
          "output_type": "execute_result",
          "data": {
            "text/html": [
              "<table>\n",
              "    <thead>\n",
              "        <tr>\n",
              "            <th>id</th>\n",
              "            <th>name</th>\n",
              "            <th>year</th>\n",
              "        </tr>\n",
              "    </thead>\n",
              "    <tbody>\n",
              "        <tr>\n",
              "            <td>2488496</td>\n",
              "            <td>Star Wars: The Force Awakens</td>\n",
              "            <td>2015</td>\n",
              "        </tr>\n",
              "        <tr>\n",
              "            <td>4154796</td>\n",
              "            <td>Avengers: Endgame</td>\n",
              "            <td>2019</td>\n",
              "        </tr>\n",
              "        <tr>\n",
              "            <td>0499549</td>\n",
              "            <td>Avatar</td>\n",
              "            <td>2009</td>\n",
              "        </tr>\n",
              "        <tr>\n",
              "            <td>1825683</td>\n",
              "            <td>Black Panther</td>\n",
              "            <td>2018</td>\n",
              "        </tr>\n",
              "        <tr>\n",
              "            <td>4154756</td>\n",
              "            <td>Avengers: Infinity War</td>\n",
              "            <td>2018</td>\n",
              "        </tr>\n",
              "    </tbody>\n",
              "</table>"
            ],
            "text/plain": [
              "[('2488496', 'Star Wars: The Force Awakens', 2015),\n",
              " ('4154796', 'Avengers: Endgame', 2019),\n",
              " ('0499549', 'Avatar', 2009),\n",
              " ('1825683', 'Black Panther', 2018),\n",
              " ('4154756', 'Avengers: Infinity War', 2018)]"
            ]
          },
          "metadata": {},
          "execution_count": 10
        }
      ]
    },
    {
      "cell_type": "code",
      "source": [
        "# Now, let's trying \"renaming\" the columns using AS\n",
        "%%sql \n",
        "\n",
        "SELECT id, name as \"Movie Title\", year AS \"Year Released\" FROM Movie LIMIT 5;"
      ],
      "metadata": {
        "colab": {
          "base_uri": "https://localhost:8080/",
          "height": 179
        },
        "id": "njkQFetYyTZU",
        "outputId": "6df435b4-a8a8-4390-d4e9-7fb4e25a2919"
      },
      "execution_count": 11,
      "outputs": [
        {
          "output_type": "stream",
          "name": "stdout",
          "text": [
            " * sqlite:////content/movie.sqlite\n",
            "Done.\n"
          ]
        },
        {
          "output_type": "execute_result",
          "data": {
            "text/html": [
              "<table>\n",
              "    <thead>\n",
              "        <tr>\n",
              "            <th>id</th>\n",
              "            <th>Movie Title</th>\n",
              "            <th>Year Released</th>\n",
              "        </tr>\n",
              "    </thead>\n",
              "    <tbody>\n",
              "        <tr>\n",
              "            <td>2488496</td>\n",
              "            <td>Star Wars: The Force Awakens</td>\n",
              "            <td>2015</td>\n",
              "        </tr>\n",
              "        <tr>\n",
              "            <td>4154796</td>\n",
              "            <td>Avengers: Endgame</td>\n",
              "            <td>2019</td>\n",
              "        </tr>\n",
              "        <tr>\n",
              "            <td>0499549</td>\n",
              "            <td>Avatar</td>\n",
              "            <td>2009</td>\n",
              "        </tr>\n",
              "        <tr>\n",
              "            <td>1825683</td>\n",
              "            <td>Black Panther</td>\n",
              "            <td>2018</td>\n",
              "        </tr>\n",
              "        <tr>\n",
              "            <td>4154756</td>\n",
              "            <td>Avengers: Infinity War</td>\n",
              "            <td>2018</td>\n",
              "        </tr>\n",
              "    </tbody>\n",
              "</table>"
            ],
            "text/plain": [
              "[('2488496', 'Star Wars: The Force Awakens', 2015),\n",
              " ('4154796', 'Avengers: Endgame', 2019),\n",
              " ('0499549', 'Avatar', 2009),\n",
              " ('1825683', 'Black Panther', 2018),\n",
              " ('4154756', 'Avengers: Infinity War', 2018)]"
            ]
          },
          "metadata": {},
          "execution_count": 11
        }
      ]
    },
    {
      "cell_type": "code",
      "source": [
        "# OK, now let's trying ordering by the year the movie was Released\n",
        "%%sql \n",
        "\n",
        "SELECT id, name as \"Movie Title\", year FROM Movie \n",
        "  ORDER BY year \n",
        "  LIMIT 5;"
      ],
      "metadata": {
        "colab": {
          "base_uri": "https://localhost:8080/",
          "height": 179
        },
        "id": "YR9RBZpJ0hrC",
        "outputId": "42549341-d55c-4753-d0e5-53c45ec6691a"
      },
      "execution_count": 12,
      "outputs": [
        {
          "output_type": "stream",
          "name": "stdout",
          "text": [
            " * sqlite:////content/movie.sqlite\n",
            "Done.\n"
          ]
        },
        {
          "output_type": "execute_result",
          "data": {
            "text/html": [
              "<table>\n",
              "    <thead>\n",
              "        <tr>\n",
              "            <th>id</th>\n",
              "            <th>Movie Title</th>\n",
              "            <th>year</th>\n",
              "        </tr>\n",
              "    </thead>\n",
              "    <tbody>\n",
              "        <tr>\n",
              "            <td>0018578</td>\n",
              "            <td>Wings</td>\n",
              "            <td>1927</td>\n",
              "        </tr>\n",
              "        <tr>\n",
              "            <td>0018379</td>\n",
              "            <td>Seventh Heaven</td>\n",
              "            <td>1927</td>\n",
              "        </tr>\n",
              "        <tr>\n",
              "            <td>0018515</td>\n",
              "            <td>Two Arabian Knights</td>\n",
              "            <td>1927</td>\n",
              "        </tr>\n",
              "        <tr>\n",
              "            <td>0019071</td>\n",
              "            <td>Last Command, The</td>\n",
              "            <td>1928</td>\n",
              "        </tr>\n",
              "        <tr>\n",
              "            <td>0019729</td>\n",
              "            <td>Broadway Melody, The</td>\n",
              "            <td>1929</td>\n",
              "        </tr>\n",
              "    </tbody>\n",
              "</table>"
            ],
            "text/plain": [
              "[('0018578', 'Wings', 1927),\n",
              " ('0018379', 'Seventh Heaven', 1927),\n",
              " ('0018515', 'Two Arabian Knights', 1927),\n",
              " ('0019071', 'Last Command, The', 1928),\n",
              " ('0019729', 'Broadway Melody, The', 1929)]"
            ]
          },
          "metadata": {},
          "execution_count": 12
        }
      ]
    },
    {
      "cell_type": "code",
      "source": [
        "# The default sort order is \"Ascending\" (or ASC)\n",
        "# We could also sort by \"Descending\" order\n",
        "%%sql \n",
        "\n",
        "SELECT id, name, year FROM Movie \n",
        "  ORDER BY year DESC \n",
        "  LIMIT 10;"
      ],
      "metadata": {
        "colab": {
          "base_uri": "https://localhost:8080/",
          "height": 284
        },
        "id": "5tnumdBA00gf",
        "outputId": "a0123c30-d2a4-4e53-e877-4aebc1d3b12a"
      },
      "execution_count": 13,
      "outputs": [
        {
          "output_type": "stream",
          "name": "stdout",
          "text": [
            " * sqlite:////content/movie.sqlite\n",
            "Done.\n"
          ]
        },
        {
          "output_type": "execute_result",
          "data": {
            "text/html": [
              "<table>\n",
              "    <thead>\n",
              "        <tr>\n",
              "            <th>id</th>\n",
              "            <th>name</th>\n",
              "            <th>year</th>\n",
              "        </tr>\n",
              "    </thead>\n",
              "    <tbody>\n",
              "        <tr>\n",
              "            <td>4154796</td>\n",
              "            <td>Avengers: Endgame</td>\n",
              "            <td>2019</td>\n",
              "        </tr>\n",
              "        <tr>\n",
              "            <td>6105098</td>\n",
              "            <td>The Lion King</td>\n",
              "            <td>2019</td>\n",
              "        </tr>\n",
              "        <tr>\n",
              "            <td>2527338</td>\n",
              "            <td>Star Wars: The Rise Of Skywalker</td>\n",
              "            <td>2019</td>\n",
              "        </tr>\n",
              "        <tr>\n",
              "            <td>4520988</td>\n",
              "            <td>Frozen II</td>\n",
              "            <td>2019</td>\n",
              "        </tr>\n",
              "        <tr>\n",
              "            <td>1979376</td>\n",
              "            <td>Toy Story 4</td>\n",
              "            <td>2019</td>\n",
              "        </tr>\n",
              "        <tr>\n",
              "            <td>4154664</td>\n",
              "            <td>Captain Marvel</td>\n",
              "            <td>2019</td>\n",
              "        </tr>\n",
              "        <tr>\n",
              "            <td>6320628</td>\n",
              "            <td>Spider-Man: Far from Home</td>\n",
              "            <td>2019</td>\n",
              "        </tr>\n",
              "        <tr>\n",
              "            <td>6139732</td>\n",
              "            <td>Aladdin</td>\n",
              "            <td>2019</td>\n",
              "        </tr>\n",
              "        <tr>\n",
              "            <td>7286456</td>\n",
              "            <td>Joker</td>\n",
              "            <td>2019</td>\n",
              "        </tr>\n",
              "        <tr>\n",
              "            <td>7975244</td>\n",
              "            <td>Jumanji: The Next Level</td>\n",
              "            <td>2019</td>\n",
              "        </tr>\n",
              "    </tbody>\n",
              "</table>"
            ],
            "text/plain": [
              "[('4154796', 'Avengers: Endgame', 2019),\n",
              " ('6105098', 'The Lion King', 2019),\n",
              " ('2527338', 'Star Wars: The Rise Of Skywalker', 2019),\n",
              " ('4520988', 'Frozen II', 2019),\n",
              " ('1979376', 'Toy Story 4', 2019),\n",
              " ('4154664', 'Captain Marvel', 2019),\n",
              " ('6320628', 'Spider-Man: Far from Home', 2019),\n",
              " ('6139732', 'Aladdin', 2019),\n",
              " ('7286456', 'Joker', 2019),\n",
              " ('7975244', 'Jumanji: The Next Level', 2019)]"
            ]
          },
          "metadata": {},
          "execution_count": 13
        }
      ]
    },
    {
      "cell_type": "code",
      "source": [
        "# We can also sort by multiple columns\n",
        "# For example, first descending by year and the ascending by title\n",
        "%%sql \n",
        "\n",
        "select id, name, year from Movie \n",
        "  order by year desc, name asc \n",
        "  limit 10;"
      ],
      "metadata": {
        "colab": {
          "base_uri": "https://localhost:8080/",
          "height": 284
        },
        "id": "7ySWxaZg2ZjS",
        "outputId": "60e7c061-56ad-4ca6-fbab-060f6021a35b"
      },
      "execution_count": 14,
      "outputs": [
        {
          "output_type": "stream",
          "name": "stdout",
          "text": [
            " * sqlite:////content/movie.sqlite\n",
            "Done.\n"
          ]
        },
        {
          "output_type": "execute_result",
          "data": {
            "text/html": [
              "<table>\n",
              "    <thead>\n",
              "        <tr>\n",
              "            <th>id</th>\n",
              "            <th>name</th>\n",
              "            <th>year</th>\n",
              "        </tr>\n",
              "    </thead>\n",
              "    <tbody>\n",
              "        <tr>\n",
              "            <td>6139732</td>\n",
              "            <td>Aladdin</td>\n",
              "            <td>2019</td>\n",
              "        </tr>\n",
              "        <tr>\n",
              "            <td>4154796</td>\n",
              "            <td>Avengers: Endgame</td>\n",
              "            <td>2019</td>\n",
              "        </tr>\n",
              "        <tr>\n",
              "            <td>4154664</td>\n",
              "            <td>Captain Marvel</td>\n",
              "            <td>2019</td>\n",
              "        </tr>\n",
              "        <tr>\n",
              "            <td>4520988</td>\n",
              "            <td>Frozen II</td>\n",
              "            <td>2019</td>\n",
              "        </tr>\n",
              "        <tr>\n",
              "            <td>7349950</td>\n",
              "            <td>It Chapter Two</td>\n",
              "            <td>2019</td>\n",
              "        </tr>\n",
              "        <tr>\n",
              "            <td>7286456</td>\n",
              "            <td>Joker</td>\n",
              "            <td>2019</td>\n",
              "        </tr>\n",
              "        <tr>\n",
              "            <td>7549996</td>\n",
              "            <td>Judy</td>\n",
              "            <td>2019</td>\n",
              "        </tr>\n",
              "        <tr>\n",
              "            <td>7975244</td>\n",
              "            <td>Jumanji: The Next Level</td>\n",
              "            <td>2019</td>\n",
              "        </tr>\n",
              "        <tr>\n",
              "            <td>7653254</td>\n",
              "            <td>Marriage Story</td>\n",
              "            <td>2019</td>\n",
              "        </tr>\n",
              "        <tr>\n",
              "            <td>7131622</td>\n",
              "            <td>Once Upon a Time... In Hollywood</td>\n",
              "            <td>2019</td>\n",
              "        </tr>\n",
              "    </tbody>\n",
              "</table>"
            ],
            "text/plain": [
              "[('6139732', 'Aladdin', 2019),\n",
              " ('4154796', 'Avengers: Endgame', 2019),\n",
              " ('4154664', 'Captain Marvel', 2019),\n",
              " ('4520988', 'Frozen II', 2019),\n",
              " ('7349950', 'It Chapter Two', 2019),\n",
              " ('7286456', 'Joker', 2019),\n",
              " ('7549996', 'Judy', 2019),\n",
              " ('7975244', 'Jumanji: The Next Level', 2019),\n",
              " ('7653254', 'Marriage Story', 2019),\n",
              " ('7131622', 'Once Upon a Time... In Hollywood', 2019)]"
            ]
          },
          "metadata": {},
          "execution_count": 14
        }
      ]
    },
    {
      "cell_type": "markdown",
      "source": [
        "#6. Calculuated Columns\n",
        "SQL also allows do things like add, subtract, and divide the values of columns. Here we'll show:\n",
        "1. How to use SQL to do basic arithemtic\n",
        "2. How to use this to produce new \"calculated columns\""
      ],
      "metadata": {
        "id": "PV5gOTi9QWV9"
      }
    },
    {
      "cell_type": "code",
      "source": [
        "# Let's do some simple arithmetic\n",
        "%%sql\n",
        "SELECT 7 + 21"
      ],
      "metadata": {
        "colab": {
          "base_uri": "https://localhost:8080/",
          "height": 95
        },
        "id": "Y5vbdT4j2oEj",
        "outputId": "8fe5267a-2377-442a-e892-5481f285641e"
      },
      "execution_count": 15,
      "outputs": [
        {
          "output_type": "stream",
          "name": "stdout",
          "text": [
            " * sqlite:////content/movie.sqlite\n",
            "Done.\n"
          ]
        },
        {
          "output_type": "execute_result",
          "data": {
            "text/html": [
              "<table>\n",
              "    <thead>\n",
              "        <tr>\n",
              "            <th>7 + 21</th>\n",
              "        </tr>\n",
              "    </thead>\n",
              "    <tbody>\n",
              "        <tr>\n",
              "            <td>28</td>\n",
              "        </tr>\n",
              "    </tbody>\n",
              "</table>"
            ],
            "text/plain": [
              "[(28,)]"
            ]
          },
          "metadata": {},
          "execution_count": 15
        }
      ]
    },
    {
      "cell_type": "code",
      "source": [
        "# The order of operations is the same one you should\n",
        "# have learned in math class\n",
        "%%sql\n",
        "SELECT 3 - 2 * 4"
      ],
      "metadata": {
        "colab": {
          "base_uri": "https://localhost:8080/",
          "height": 95
        },
        "id": "T5niIkCNQ2UW",
        "outputId": "d64aee47-b3a0-406a-d7bc-002c9b97e63d"
      },
      "execution_count": 16,
      "outputs": [
        {
          "output_type": "stream",
          "name": "stdout",
          "text": [
            " * sqlite:////content/movie.sqlite\n",
            "Done.\n"
          ]
        },
        {
          "output_type": "execute_result",
          "data": {
            "text/html": [
              "<table>\n",
              "    <thead>\n",
              "        <tr>\n",
              "            <th>3 - 2 * 4</th>\n",
              "        </tr>\n",
              "    </thead>\n",
              "    <tbody>\n",
              "        <tr>\n",
              "            <td>-5</td>\n",
              "        </tr>\n",
              "    </tbody>\n",
              "</table>"
            ],
            "text/plain": [
              "[(-5,)]"
            ]
          },
          "metadata": {},
          "execution_count": 16
        }
      ]
    },
    {
      "cell_type": "code",
      "source": [
        "# The \"default\" for division is integer division. So, you do NOT get decimal places.\n",
        "%%sql\n",
        "select 11/5"
      ],
      "metadata": {
        "colab": {
          "base_uri": "https://localhost:8080/",
          "height": 95
        },
        "id": "9ZOmpS-bRDbO",
        "outputId": "97781195-6ba7-457b-ae9c-d655fbb4d234"
      },
      "execution_count": 17,
      "outputs": [
        {
          "output_type": "stream",
          "name": "stdout",
          "text": [
            " * sqlite:////content/movie.sqlite\n",
            "Done.\n"
          ]
        },
        {
          "output_type": "execute_result",
          "data": {
            "text/html": [
              "<table>\n",
              "    <thead>\n",
              "        <tr>\n",
              "            <th>11/5</th>\n",
              "        </tr>\n",
              "    </thead>\n",
              "    <tbody>\n",
              "        <tr>\n",
              "            <td>2</td>\n",
              "        </tr>\n",
              "    </tbody>\n",
              "</table>"
            ],
            "text/plain": [
              "[(2,)]"
            ]
          },
          "metadata": {},
          "execution_count": 17
        }
      ]
    },
    {
      "cell_type": "code",
      "source": [
        "# We can also get the remainder using the % operator\n",
        "%%sql\n",
        "select 11/5, 11 % 5"
      ],
      "metadata": {
        "colab": {
          "base_uri": "https://localhost:8080/",
          "height": 95
        },
        "id": "7lcbOP6FR0Ta",
        "outputId": "4afd630b-8c3b-4651-96f3-c0638a9cc348"
      },
      "execution_count": 18,
      "outputs": [
        {
          "output_type": "stream",
          "name": "stdout",
          "text": [
            " * sqlite:////content/movie.sqlite\n",
            "Done.\n"
          ]
        },
        {
          "output_type": "execute_result",
          "data": {
            "text/html": [
              "<table>\n",
              "    <thead>\n",
              "        <tr>\n",
              "            <th>11/5</th>\n",
              "            <th>11 % 5</th>\n",
              "        </tr>\n",
              "    </thead>\n",
              "    <tbody>\n",
              "        <tr>\n",
              "            <td>2</td>\n",
              "            <td>1</td>\n",
              "        </tr>\n",
              "    </tbody>\n",
              "</table>"
            ],
            "text/plain": [
              "[(2, 1)]"
            ]
          },
          "metadata": {},
          "execution_count": 18
        }
      ]
    },
    {
      "cell_type": "code",
      "source": [
        "# To do \"float\" division, we just need to put a . after one of our numbers,\n",
        "# which tells SQL to treat this as a FLOAT\n",
        "%%sql \n",
        "select 11./5 as \"What is 11 divided by 5?\""
      ],
      "metadata": {
        "colab": {
          "base_uri": "https://localhost:8080/",
          "height": 95
        },
        "id": "l14bSqw7Sp7J",
        "outputId": "26738061-742c-4b7a-e831-1104c7350b2d"
      },
      "execution_count": 19,
      "outputs": [
        {
          "output_type": "stream",
          "name": "stdout",
          "text": [
            " * sqlite:////content/movie.sqlite\n",
            "Done.\n"
          ]
        },
        {
          "output_type": "execute_result",
          "data": {
            "text/html": [
              "<table>\n",
              "    <thead>\n",
              "        <tr>\n",
              "            <th>What is 11 divided by 5?</th>\n",
              "        </tr>\n",
              "    </thead>\n",
              "    <tbody>\n",
              "        <tr>\n",
              "            <td>2.2</td>\n",
              "        </tr>\n",
              "    </tbody>\n",
              "</table>"
            ],
            "text/plain": [
              "[(2.2,)]"
            ]
          },
          "metadata": {},
          "execution_count": 19
        }
      ]
    },
    {
      "cell_type": "code",
      "source": [
        "# Now, let's try our hand at using this to play with movie runtimes\n",
        "%%sql \n",
        "select name, runtime FROM Movie limit 7;"
      ],
      "metadata": {
        "colab": {
          "base_uri": "https://localhost:8080/",
          "height": 221
        },
        "id": "AUbKIbMuTEr4",
        "outputId": "ad634518-34b1-4cd6-ab29-823a8f8ee1dd"
      },
      "execution_count": 20,
      "outputs": [
        {
          "output_type": "stream",
          "name": "stdout",
          "text": [
            " * sqlite:////content/movie.sqlite\n",
            "Done.\n"
          ]
        },
        {
          "output_type": "execute_result",
          "data": {
            "text/html": [
              "<table>\n",
              "    <thead>\n",
              "        <tr>\n",
              "            <th>name</th>\n",
              "            <th>runtime</th>\n",
              "        </tr>\n",
              "    </thead>\n",
              "    <tbody>\n",
              "        <tr>\n",
              "            <td>Star Wars: The Force Awakens</td>\n",
              "            <td>138</td>\n",
              "        </tr>\n",
              "        <tr>\n",
              "            <td>Avengers: Endgame</td>\n",
              "            <td>181</td>\n",
              "        </tr>\n",
              "        <tr>\n",
              "            <td>Avatar</td>\n",
              "            <td>162</td>\n",
              "        </tr>\n",
              "        <tr>\n",
              "            <td>Black Panther</td>\n",
              "            <td>134</td>\n",
              "        </tr>\n",
              "        <tr>\n",
              "            <td>Avengers: Infinity War</td>\n",
              "            <td>149</td>\n",
              "        </tr>\n",
              "        <tr>\n",
              "            <td>Titanic</td>\n",
              "            <td>194</td>\n",
              "        </tr>\n",
              "        <tr>\n",
              "            <td>Jurassic World</td>\n",
              "            <td>124</td>\n",
              "        </tr>\n",
              "    </tbody>\n",
              "</table>"
            ],
            "text/plain": [
              "[('Star Wars: The Force Awakens', 138),\n",
              " ('Avengers: Endgame', 181),\n",
              " ('Avatar', 162),\n",
              " ('Black Panther', 134),\n",
              " ('Avengers: Infinity War', 149),\n",
              " ('Titanic', 194),\n",
              " ('Jurassic World', 124)]"
            ]
          },
          "metadata": {},
          "execution_count": 20
        }
      ]
    },
    {
      "cell_type": "code",
      "source": [
        "# How many hours is each movie?\n",
        "%%sql \n",
        "select name, runtime, (runtime/60.) as \"Runtime (hours)\" FROM Movie LIMIT 7;"
      ],
      "metadata": {
        "colab": {
          "base_uri": "https://localhost:8080/",
          "height": 221
        },
        "id": "CO8TWPGDToG1",
        "outputId": "ab9c1e9a-c611-4bfb-df96-c5f1e5ccdc83"
      },
      "execution_count": 21,
      "outputs": [
        {
          "output_type": "stream",
          "name": "stdout",
          "text": [
            " * sqlite:////content/movie.sqlite\n",
            "Done.\n"
          ]
        },
        {
          "output_type": "execute_result",
          "data": {
            "text/html": [
              "<table>\n",
              "    <thead>\n",
              "        <tr>\n",
              "            <th>name</th>\n",
              "            <th>runtime</th>\n",
              "            <th>Runtime (hours)</th>\n",
              "        </tr>\n",
              "    </thead>\n",
              "    <tbody>\n",
              "        <tr>\n",
              "            <td>Star Wars: The Force Awakens</td>\n",
              "            <td>138</td>\n",
              "            <td>2.3</td>\n",
              "        </tr>\n",
              "        <tr>\n",
              "            <td>Avengers: Endgame</td>\n",
              "            <td>181</td>\n",
              "            <td>3.0166666666666666</td>\n",
              "        </tr>\n",
              "        <tr>\n",
              "            <td>Avatar</td>\n",
              "            <td>162</td>\n",
              "            <td>2.7</td>\n",
              "        </tr>\n",
              "        <tr>\n",
              "            <td>Black Panther</td>\n",
              "            <td>134</td>\n",
              "            <td>2.2333333333333334</td>\n",
              "        </tr>\n",
              "        <tr>\n",
              "            <td>Avengers: Infinity War</td>\n",
              "            <td>149</td>\n",
              "            <td>2.4833333333333334</td>\n",
              "        </tr>\n",
              "        <tr>\n",
              "            <td>Titanic</td>\n",
              "            <td>194</td>\n",
              "            <td>3.2333333333333334</td>\n",
              "        </tr>\n",
              "        <tr>\n",
              "            <td>Jurassic World</td>\n",
              "            <td>124</td>\n",
              "            <td>2.066666666666667</td>\n",
              "        </tr>\n",
              "    </tbody>\n",
              "</table>"
            ],
            "text/plain": [
              "[('Star Wars: The Force Awakens', 138, 2.3),\n",
              " ('Avengers: Endgame', 181, 3.0166666666666666),\n",
              " ('Avatar', 162, 2.7),\n",
              " ('Black Panther', 134, 2.2333333333333334),\n",
              " ('Avengers: Infinity War', 149, 2.4833333333333334),\n",
              " ('Titanic', 194, 3.2333333333333334),\n",
              " ('Jurassic World', 124, 2.066666666666667)]"
            ]
          },
          "metadata": {},
          "execution_count": 21
        }
      ]
    },
    {
      "cell_type": "code",
      "source": [
        "# How many seconds is each movie?\n",
        "%%sql \n",
        "SELECT name, runtime, (runtime * 60) AS \"Runtime (seconds)\" FROM Movie LIMIT 7;"
      ],
      "metadata": {
        "colab": {
          "base_uri": "https://localhost:8080/",
          "height": 221
        },
        "id": "NNVr8izPT1D6",
        "outputId": "787ca15e-cdbf-4a3f-b204-b164352f6196"
      },
      "execution_count": 22,
      "outputs": [
        {
          "output_type": "stream",
          "name": "stdout",
          "text": [
            " * sqlite:////content/movie.sqlite\n",
            "Done.\n"
          ]
        },
        {
          "output_type": "execute_result",
          "data": {
            "text/html": [
              "<table>\n",
              "    <thead>\n",
              "        <tr>\n",
              "            <th>name</th>\n",
              "            <th>runtime</th>\n",
              "            <th>Runtime (seconds)</th>\n",
              "        </tr>\n",
              "    </thead>\n",
              "    <tbody>\n",
              "        <tr>\n",
              "            <td>Star Wars: The Force Awakens</td>\n",
              "            <td>138</td>\n",
              "            <td>8280</td>\n",
              "        </tr>\n",
              "        <tr>\n",
              "            <td>Avengers: Endgame</td>\n",
              "            <td>181</td>\n",
              "            <td>10860</td>\n",
              "        </tr>\n",
              "        <tr>\n",
              "            <td>Avatar</td>\n",
              "            <td>162</td>\n",
              "            <td>9720</td>\n",
              "        </tr>\n",
              "        <tr>\n",
              "            <td>Black Panther</td>\n",
              "            <td>134</td>\n",
              "            <td>8040</td>\n",
              "        </tr>\n",
              "        <tr>\n",
              "            <td>Avengers: Infinity War</td>\n",
              "            <td>149</td>\n",
              "            <td>8940</td>\n",
              "        </tr>\n",
              "        <tr>\n",
              "            <td>Titanic</td>\n",
              "            <td>194</td>\n",
              "            <td>11640</td>\n",
              "        </tr>\n",
              "        <tr>\n",
              "            <td>Jurassic World</td>\n",
              "            <td>124</td>\n",
              "            <td>7440</td>\n",
              "        </tr>\n",
              "    </tbody>\n",
              "</table>"
            ],
            "text/plain": [
              "[('Star Wars: The Force Awakens', 138, 8280),\n",
              " ('Avengers: Endgame', 181, 10860),\n",
              " ('Avatar', 162, 9720),\n",
              " ('Black Panther', 134, 8040),\n",
              " ('Avengers: Infinity War', 149, 8940),\n",
              " ('Titanic', 194, 11640),\n",
              " ('Jurassic World', 124, 7440)]"
            ]
          },
          "metadata": {},
          "execution_count": 22
        }
      ]
    },
    {
      "cell_type": "markdown",
      "source": [
        "#7. Filtering results with WHERE, BETWEEN, and IS (NOT) NULL\n",
        "So far, we've been focusing on SQL statements of the form SELECT attributes from Table. However, many/most SQL statements will also *filter* these results acccording to whether certain conditions are met. This is where WHERE comes in. For example:\n",
        "\n",
        "\n",
        "```\n",
        "SELECT attribute_list FROM table WHERE conditions\n",
        "```\n",
        "\n",
        "Below, we'll take a look at how this works."
      ],
      "metadata": {
        "id": "PpLWe_i78hnB"
      }
    },
    {
      "cell_type": "code",
      "source": [
        "# Find people in the databse born after 2000\n",
        "%%sql\n",
        "SELECT name, dob FROM Person \n",
        "  WHERE dob > '2000/1/1'"
      ],
      "metadata": {
        "id": "mMigeDK-UAJN",
        "colab": {
          "base_uri": "https://localhost:8080/",
          "height": 158
        },
        "outputId": "4877b76e-d180-45a0-996d-561b8c5536da"
      },
      "execution_count": 23,
      "outputs": [
        {
          "output_type": "stream",
          "name": "stdout",
          "text": [
            " * sqlite:////content/movie.sqlite\n",
            "Done.\n"
          ]
        },
        {
          "output_type": "execute_result",
          "data": {
            "text/html": [
              "<table>\n",
              "    <thead>\n",
              "        <tr>\n",
              "            <th>name</th>\n",
              "            <th>dob</th>\n",
              "        </tr>\n",
              "    </thead>\n",
              "    <tbody>\n",
              "        <tr>\n",
              "            <td>Richard Glatzer</td>\n",
              "            <td>2015-03-10</td>\n",
              "        </tr>\n",
              "        <tr>\n",
              "            <td>Neel Sethi</td>\n",
              "            <td>2003-12-22</td>\n",
              "        </tr>\n",
              "        <tr>\n",
              "            <td>Jacob Tremblay</td>\n",
              "            <td>2006-10-05</td>\n",
              "        </tr>\n",
              "        <tr>\n",
              "            <td>Sophia Lillis</td>\n",
              "            <td>2002-02-13</td>\n",
              "        </tr>\n",
              "    </tbody>\n",
              "</table>"
            ],
            "text/plain": [
              "[('Richard Glatzer', '2015-03-10'),\n",
              " ('Neel Sethi', '2003-12-22'),\n",
              " ('Jacob Tremblay', '2006-10-05'),\n",
              " ('Sophia Lillis', '2002-02-13')]"
            ]
          },
          "metadata": {},
          "execution_count": 23
        }
      ]
    },
    {
      "cell_type": "code",
      "source": [
        "# How many movies have a runtime of exactly 120 minutes?\n",
        "%%sql\n",
        "SELECT COUNT(*) AS \"Movies with runtime of exactly 120 minutes\" FROM Movie \n",
        "  WHERE runtime = 120"
      ],
      "metadata": {
        "colab": {
          "base_uri": "https://localhost:8080/",
          "height": 95
        },
        "id": "0glVoLFK91P7",
        "outputId": "cd78f46e-5fac-4059-db0c-dc62fc131a3b"
      },
      "execution_count": 24,
      "outputs": [
        {
          "output_type": "stream",
          "name": "stdout",
          "text": [
            " * sqlite:////content/movie.sqlite\n",
            "Done.\n"
          ]
        },
        {
          "output_type": "execute_result",
          "data": {
            "text/html": [
              "<table>\n",
              "    <thead>\n",
              "        <tr>\n",
              "            <th>Movies with runtime of exactly 120 minutes</th>\n",
              "        </tr>\n",
              "    </thead>\n",
              "    <tbody>\n",
              "        <tr>\n",
              "            <td>15</td>\n",
              "        </tr>\n",
              "    </tbody>\n",
              "</table>"
            ],
            "text/plain": [
              "[(15,)]"
            ]
          },
          "metadata": {},
          "execution_count": 24
        }
      ]
    },
    {
      "cell_type": "code",
      "source": [
        "# Or, we could find those with a run time of BETWEEN 60 and 80 minutes\n",
        "%%sql \n",
        "SELECT name, runtime FROM Movie \n",
        "  WHERE runtime BETWEEN 60 AND 80"
      ],
      "metadata": {
        "colab": {
          "base_uri": "https://localhost:8080/",
          "height": 221
        },
        "id": "kBzZnJu__FYO",
        "outputId": "9f41847c-1622-4b0a-e421-d1850f83ae2a"
      },
      "execution_count": 25,
      "outputs": [
        {
          "output_type": "stream",
          "name": "stdout",
          "text": [
            " * sqlite:////content/movie.sqlite\n",
            "Done.\n"
          ]
        },
        {
          "output_type": "execute_result",
          "data": {
            "text/html": [
              "<table>\n",
              "    <thead>\n",
              "        <tr>\n",
              "            <th>name</th>\n",
              "            <th>runtime</th>\n",
              "        </tr>\n",
              "    </thead>\n",
              "    <tbody>\n",
              "        <tr>\n",
              "            <td>One Hundred and One Dalmatians</td>\n",
              "            <td>79</td>\n",
              "        </tr>\n",
              "        <tr>\n",
              "            <td>Jungle Book, The</td>\n",
              "            <td>78</td>\n",
              "        </tr>\n",
              "        <tr>\n",
              "            <td>Dangerous</td>\n",
              "            <td>79</td>\n",
              "        </tr>\n",
              "        <tr>\n",
              "            <td>Morning Glory</td>\n",
              "            <td>74</td>\n",
              "        </tr>\n",
              "        <tr>\n",
              "            <td>Sin of Madelon Claudet, The</td>\n",
              "            <td>75</td>\n",
              "        </tr>\n",
              "        <tr>\n",
              "            <td>Min and Bill</td>\n",
              "            <td>66</td>\n",
              "        </tr>\n",
              "        <tr>\n",
              "            <td>Coquette</td>\n",
              "            <td>76</td>\n",
              "        </tr>\n",
              "    </tbody>\n",
              "</table>"
            ],
            "text/plain": [
              "[('One Hundred and One Dalmatians', 79),\n",
              " ('Jungle Book, The', 78),\n",
              " ('Dangerous', 79),\n",
              " ('Morning Glory', 74),\n",
              " ('Sin of Madelon Claudet, The', 75),\n",
              " ('Min and Bill', 66),\n",
              " ('Coquette', 76)]"
            ]
          },
          "metadata": {},
          "execution_count": 25
        }
      ]
    },
    {
      "cell_type": "code",
      "source": [
        "# Finally, we can select just those rows have (or do not have) \n",
        "# NULL values for particular rows\n",
        "%%sql\n",
        "SELECT * FROM Movie \n",
        "  WHERE earnings_rank IS NULL \n",
        "  LIMIT 5;"
      ],
      "metadata": {
        "id": "BmZFoY56Ain5",
        "colab": {
          "base_uri": "https://localhost:8080/",
          "height": 179
        },
        "outputId": "33850724-cba1-4a1e-cae4-2018e30e640d"
      },
      "execution_count": 26,
      "outputs": [
        {
          "output_type": "stream",
          "name": "stdout",
          "text": [
            " * sqlite:////content/movie.sqlite\n",
            "Done.\n"
          ]
        },
        {
          "output_type": "execute_result",
          "data": {
            "text/html": [
              "<table>\n",
              "    <thead>\n",
              "        <tr>\n",
              "            <th>id</th>\n",
              "            <th>name</th>\n",
              "            <th>year</th>\n",
              "            <th>rating</th>\n",
              "            <th>runtime</th>\n",
              "            <th>genre</th>\n",
              "            <th>earnings_rank</th>\n",
              "        </tr>\n",
              "    </thead>\n",
              "    <tbody>\n",
              "        <tr>\n",
              "            <td>0372784</td>\n",
              "            <td>Batman Begins</td>\n",
              "            <td>2005</td>\n",
              "            <td>PG-13</td>\n",
              "            <td>141</td>\n",
              "            <td>AVYT</td>\n",
              "            <td>None</td>\n",
              "        </tr>\n",
              "        <tr>\n",
              "            <td>0367594</td>\n",
              "            <td>Charlie and the Chocolate Factory</td>\n",
              "            <td>2005</td>\n",
              "            <td>PG</td>\n",
              "            <td>115</td>\n",
              "            <td>VCFY</td>\n",
              "            <td>None</td>\n",
              "        </tr>\n",
              "        <tr>\n",
              "            <td>0382932</td>\n",
              "            <td>Ratatouille</td>\n",
              "            <td>2007</td>\n",
              "            <td>G</td>\n",
              "            <td>110</td>\n",
              "            <td>NCF</td>\n",
              "            <td>None</td>\n",
              "        </tr>\n",
              "        <tr>\n",
              "            <td>1981115</td>\n",
              "            <td>Thor: The Dark World</td>\n",
              "            <td>2013</td>\n",
              "            <td>PG-13</td>\n",
              "            <td>112</td>\n",
              "            <td>A</td>\n",
              "            <td>None</td>\n",
              "        </tr>\n",
              "        <tr>\n",
              "            <td>0145660</td>\n",
              "            <td>Austin Powers: The Spy Who Shagged Me</td>\n",
              "            <td>1999</td>\n",
              "            <td>PG-13</td>\n",
              "            <td>95</td>\n",
              "            <td>AC</td>\n",
              "            <td>None</td>\n",
              "        </tr>\n",
              "    </tbody>\n",
              "</table>"
            ],
            "text/plain": [
              "[('0372784', 'Batman Begins', 2005, 'PG-13', 141, 'AVYT', None),\n",
              " ('0367594', 'Charlie and the Chocolate Factory', 2005, 'PG', 115, 'VCFY', None),\n",
              " ('0382932', 'Ratatouille', 2007, 'G', 110, 'NCF', None),\n",
              " ('1981115', 'Thor: The Dark World', 2013, 'PG-13', 112, 'A', None),\n",
              " ('0145660', 'Austin Powers: The Spy Who Shagged Me', 1999, 'PG-13', 95, 'AC', None)]"
            ]
          },
          "metadata": {},
          "execution_count": 26
        }
      ]
    },
    {
      "cell_type": "markdown",
      "source": [
        "# 7. Searching text with LIKE and %\n",
        "The LIKE operator allows us to search within a text field. In particular:\n",
        "\n",
        "\n",
        "\n",
        "```\n",
        "# returns rows where attribute begins with 'a'.\n",
        "SELECT ... WHERE attribute LIKE 'a%'\n",
        "\n",
        "# match strings ending with 'a'.\n",
        "SELECT ... WHERE attribute LIKE '%a' \n",
        "\n",
        "# match strings with 'a' anywhere\n",
        "SELECT ... WHERE attribute LIKE '%a%'\n",
        "```\n",
        "\n",
        "\n",
        "\n",
        "\n",
        "\n",
        "\n"
      ],
      "metadata": {
        "id": "35rpotVZnBUO"
      }
    },
    {
      "cell_type": "code",
      "source": [
        "# For example, let's find movies that star with the word 'STAR'\n",
        "%%sql\n",
        "SELECT * FROM Movie \n",
        "  WHERE name LIKE 'Star%';"
      ],
      "metadata": {
        "id": "ltYwqcJF-lzt",
        "colab": {
          "base_uri": "https://localhost:8080/",
          "height": 305
        },
        "outputId": "b8d446ea-2cb3-44a8-95b1-57ce0535b998"
      },
      "execution_count": 27,
      "outputs": [
        {
          "output_type": "stream",
          "name": "stdout",
          "text": [
            " * sqlite:////content/movie.sqlite\n",
            "Done.\n"
          ]
        },
        {
          "output_type": "execute_result",
          "data": {
            "text/html": [
              "<table>\n",
              "    <thead>\n",
              "        <tr>\n",
              "            <th>id</th>\n",
              "            <th>name</th>\n",
              "            <th>year</th>\n",
              "            <th>rating</th>\n",
              "            <th>runtime</th>\n",
              "            <th>genre</th>\n",
              "            <th>earnings_rank</th>\n",
              "        </tr>\n",
              "    </thead>\n",
              "    <tbody>\n",
              "        <tr>\n",
              "            <td>2488496</td>\n",
              "            <td>Star Wars: The Force Awakens</td>\n",
              "            <td>2015</td>\n",
              "            <td>PG-13</td>\n",
              "            <td>138</td>\n",
              "            <td>A</td>\n",
              "            <td>1</td>\n",
              "        </tr>\n",
              "        <tr>\n",
              "            <td>2527336</td>\n",
              "            <td>Star Wars: Episode VIII - The Last Jedi</td>\n",
              "            <td>2017</td>\n",
              "            <td>PG-13</td>\n",
              "            <td>152</td>\n",
              "            <td>AVYS</td>\n",
              "            <td>9</td>\n",
              "        </tr>\n",
              "        <tr>\n",
              "            <td>2527338</td>\n",
              "            <td>Star Wars: The Rise Of Skywalker</td>\n",
              "            <td>2019</td>\n",
              "            <td>PG-13</td>\n",
              "            <td>141</td>\n",
              "            <td>AVYS</td>\n",
              "            <td>14</td>\n",
              "        </tr>\n",
              "        <tr>\n",
              "            <td>0120915</td>\n",
              "            <td>Star Wars: Episode I - The Phantom Menace</td>\n",
              "            <td>1999</td>\n",
              "            <td>PG</td>\n",
              "            <td>133</td>\n",
              "            <td>AVS</td>\n",
              "            <td>18</td>\n",
              "        </tr>\n",
              "        <tr>\n",
              "            <td>0076759</td>\n",
              "            <td>Star Wars: Episode IV - A New Hope</td>\n",
              "            <td>1977</td>\n",
              "            <td>PG</td>\n",
              "            <td>121</td>\n",
              "            <td>AVYS</td>\n",
              "            <td>19</td>\n",
              "        </tr>\n",
              "        <tr>\n",
              "            <td>0121766</td>\n",
              "            <td>Star Wars: Episode III - Revenge of the Sith</td>\n",
              "            <td>2005</td>\n",
              "            <td>PG-13</td>\n",
              "            <td>140</td>\n",
              "            <td>AVYS</td>\n",
              "            <td>44</td>\n",
              "        </tr>\n",
              "        <tr>\n",
              "            <td>0121765</td>\n",
              "            <td>Star Wars: Episode II - Attack of the Clones</td>\n",
              "            <td>2002</td>\n",
              "            <td>PG</td>\n",
              "            <td>143</td>\n",
              "            <td>AVS</td>\n",
              "            <td>81</td>\n",
              "        </tr>\n",
              "        <tr>\n",
              "            <td>0086190</td>\n",
              "            <td>Star Wars: Episode VI - Return of the Jedi</td>\n",
              "            <td>1983</td>\n",
              "            <td>PG</td>\n",
              "            <td>134</td>\n",
              "            <td>AVYS</td>\n",
              "            <td>83</td>\n",
              "        </tr>\n",
              "        <tr>\n",
              "            <td>0080684</td>\n",
              "            <td>Star Wars: Episode V - The Empire Strikes Back</td>\n",
              "            <td>1980</td>\n",
              "            <td>PG</td>\n",
              "            <td>124</td>\n",
              "            <td>AVYS</td>\n",
              "            <td>94</td>\n",
              "        </tr>\n",
              "        <tr>\n",
              "            <td>0796366</td>\n",
              "            <td>Star Trek</td>\n",
              "            <td>2009</td>\n",
              "            <td>PG-13</td>\n",
              "            <td>127</td>\n",
              "            <td>AVS</td>\n",
              "            <td>122</td>\n",
              "        </tr>\n",
              "        <tr>\n",
              "            <td>1408101</td>\n",
              "            <td>Star Trek Into Darkness</td>\n",
              "            <td>2013</td>\n",
              "            <td>PG-13</td>\n",
              "            <td>132</td>\n",
              "            <td>A</td>\n",
              "            <td>157</td>\n",
              "        </tr>\n",
              "    </tbody>\n",
              "</table>"
            ],
            "text/plain": [
              "[('2488496', 'Star Wars: The Force Awakens', 2015, 'PG-13', 138, 'A', 1),\n",
              " ('2527336', 'Star Wars: Episode VIII - The Last Jedi', 2017, 'PG-13', 152, 'AVYS', 9),\n",
              " ('2527338', 'Star Wars: The Rise Of Skywalker', 2019, 'PG-13', 141, 'AVYS', 14),\n",
              " ('0120915', 'Star Wars: Episode I - The Phantom Menace', 1999, 'PG', 133, 'AVS', 18),\n",
              " ('0076759', 'Star Wars: Episode IV - A New Hope', 1977, 'PG', 121, 'AVYS', 19),\n",
              " ('0121766', 'Star Wars: Episode III - Revenge of the Sith', 2005, 'PG-13', 140, 'AVYS', 44),\n",
              " ('0121765', 'Star Wars: Episode II - Attack of the Clones', 2002, 'PG', 143, 'AVS', 81),\n",
              " ('0086190', 'Star Wars: Episode VI - Return of the Jedi', 1983, 'PG', 134, 'AVYS', 83),\n",
              " ('0080684', 'Star Wars: Episode V - The Empire Strikes Back', 1980, 'PG', 124, 'AVYS', 94),\n",
              " ('0796366', 'Star Trek', 2009, 'PG-13', 127, 'AVS', 122),\n",
              " ('1408101', 'Star Trek Into Darkness', 2013, 'PG-13', 132, 'A', 157)]"
            ]
          },
          "metadata": {},
          "execution_count": 27
        }
      ]
    },
    {
      "cell_type": "code",
      "source": [
        "# Or, we could find out how many Movies that contained the letter \"V\" in genres:\n",
        "# Presumably, this means \"Adventure\" (while A is for \"Action\", S is for \"Sci Fy\")\n",
        "\n",
        "%%sql\n",
        "SELECT COUNT(*) as \"Number of Adventure Films\" FROM Movie\n",
        "  WHERE genre LIKE '%V%';"
      ],
      "metadata": {
        "colab": {
          "base_uri": "https://localhost:8080/",
          "height": 95
        },
        "id": "bNh5SqGOo0p2",
        "outputId": "fdeb6710-98c4-4406-e433-39a03250a571"
      },
      "execution_count": 28,
      "outputs": [
        {
          "output_type": "stream",
          "name": "stdout",
          "text": [
            " * sqlite:////content/movie.sqlite\n",
            "Done.\n"
          ]
        },
        {
          "output_type": "execute_result",
          "data": {
            "text/html": [
              "<table>\n",
              "    <thead>\n",
              "        <tr>\n",
              "            <th>Number of Adventure Films</th>\n",
              "        </tr>\n",
              "    </thead>\n",
              "    <tbody>\n",
              "        <tr>\n",
              "            <td>169</td>\n",
              "        </tr>\n",
              "    </tbody>\n",
              "</table>"
            ],
            "text/plain": [
              "[(169,)]"
            ]
          },
          "metadata": {},
          "execution_count": 28
        }
      ]
    },
    {
      "cell_type": "markdown",
      "source": [
        "#8. Compound Conditions With OR, NOT, and AND\n",
        "\n",
        "We can also use logical operators like OR, AND, and NOT to put together different conditions in the WHERE clause."
      ],
      "metadata": {
        "id": "ReUs5VWYppiG"
      }
    },
    {
      "cell_type": "code",
      "source": [
        "# Let's find out how many movies have \"War\" or \"Star\" somewhere in the title\n",
        "%%sql\n",
        "\n",
        "SELECT COUNT(*) AS \"Either Star or War\" FROM Movie \n",
        "  WHERE name LIke '%Star%'\n",
        "  OR name LIKE '%War%';\n"
      ],
      "metadata": {
        "colab": {
          "base_uri": "https://localhost:8080/",
          "height": 95
        },
        "id": "kRTqYtCtpjfE",
        "outputId": "18bdf0b1-2c3f-4376-ed1e-05ece9d03772"
      },
      "execution_count": 33,
      "outputs": [
        {
          "output_type": "stream",
          "name": "stdout",
          "text": [
            " * sqlite:////content/movie.sqlite\n",
            "Done.\n"
          ]
        },
        {
          "output_type": "execute_result",
          "data": {
            "text/html": [
              "<table>\n",
              "    <thead>\n",
              "        <tr>\n",
              "            <th>Either Star or War</th>\n",
              "        </tr>\n",
              "    </thead>\n",
              "    <tbody>\n",
              "        <tr>\n",
              "            <td>22</td>\n",
              "        </tr>\n",
              "    </tbody>\n",
              "</table>"
            ],
            "text/plain": [
              "[(22,)]"
            ]
          },
          "metadata": {},
          "execution_count": 33
        }
      ]
    },
    {
      "cell_type": "code",
      "source": [
        "# Let's find out how many movies have \"War\" AND \"Star\" somewhere in the title\n",
        "%%sql\n",
        "\n",
        "SELECT COUNT(*) as \"Both Star and War\" FROM Movie \n",
        "  WHERE name LIke '%Star%'\n",
        "  AND name LIKE '%War%';"
      ],
      "metadata": {
        "colab": {
          "base_uri": "https://localhost:8080/",
          "height": 95
        },
        "id": "Q3AHf6ySqe4U",
        "outputId": "35067145-6cab-44fa-8399-f4cdce63a6db"
      },
      "execution_count": 32,
      "outputs": [
        {
          "output_type": "stream",
          "name": "stdout",
          "text": [
            " * sqlite:////content/movie.sqlite\n",
            "Done.\n"
          ]
        },
        {
          "output_type": "execute_result",
          "data": {
            "text/html": [
              "<table>\n",
              "    <thead>\n",
              "        <tr>\n",
              "            <th>Both Star and War</th>\n",
              "        </tr>\n",
              "    </thead>\n",
              "    <tbody>\n",
              "        <tr>\n",
              "            <td>11</td>\n",
              "        </tr>\n",
              "    </tbody>\n",
              "</table>"
            ],
            "text/plain": [
              "[(11,)]"
            ]
          },
          "metadata": {},
          "execution_count": 32
        }
      ]
    },
    {
      "cell_type": "code",
      "source": [
        "# Let's find out how many movies have NEITHER \"War\" NOR \"Star\" anywhere in the title\n",
        "%%sql\n",
        "\n",
        "SELECT COUNT(*) AS \"Neither Star nor War\" FROM Movie \n",
        "  WHERE name NOT LIke '%Star%'\n",
        "  AND name NOT LIKE '%War%';"
      ],
      "metadata": {
        "colab": {
          "base_uri": "https://localhost:8080/",
          "height": 95
        },
        "id": "iQxB9FvKql16",
        "outputId": "f348506d-1511-4a24-aae9-6f776e479fad"
      },
      "execution_count": 38,
      "outputs": [
        {
          "output_type": "stream",
          "name": "stdout",
          "text": [
            " * sqlite:////content/movie.sqlite\n",
            "Done.\n"
          ]
        },
        {
          "output_type": "execute_result",
          "data": {
            "text/html": [
              "<table>\n",
              "    <thead>\n",
              "        <tr>\n",
              "            <th>Neither Star nor War</th>\n",
              "        </tr>\n",
              "    </thead>\n",
              "    <tbody>\n",
              "        <tr>\n",
              "            <td>705</td>\n",
              "        </tr>\n",
              "    </tbody>\n",
              "</table>"
            ],
            "text/plain": [
              "[(705,)]"
            ]
          },
          "metadata": {},
          "execution_count": 38
        }
      ]
    },
    {
      "cell_type": "markdown",
      "source": [
        "#9. Joining Tables\n",
        "Finall we can JOIN our tables together, using shared attributes. The stucture is as follows:\n",
        "\n",
        "```\n",
        "SELECT a,b,c FROM table1 JOIN table2\n",
        "  ON table1.attribute_name = table2.attribute_name\n",
        "```\n",
        "\n"
      ],
      "metadata": {
        "id": "S9GaMWWormwk"
      }
    },
    {
      "cell_type": "code",
      "source": [
        "# Let's start with a simple join of movies and Oscars\n",
        "%%sql\n",
        "SELECT * FROM Movie JOIN Oscar\n",
        "  ON Movie.id = Oscar.movie_id\n",
        "  LIMIT 10;\n"
      ],
      "metadata": {
        "colab": {
          "base_uri": "https://localhost:8080/",
          "height": 284
        },
        "id": "0uJpQc9YrYrQ",
        "outputId": "3ce32330-7831-4e5d-c379-1364f72ae989"
      },
      "execution_count": 40,
      "outputs": [
        {
          "output_type": "stream",
          "name": "stdout",
          "text": [
            " * sqlite:////content/movie.sqlite\n",
            "Done.\n"
          ]
        },
        {
          "output_type": "execute_result",
          "data": {
            "text/html": [
              "<table>\n",
              "    <thead>\n",
              "        <tr>\n",
              "            <th>id</th>\n",
              "            <th>name</th>\n",
              "            <th>year</th>\n",
              "            <th>rating</th>\n",
              "            <th>runtime</th>\n",
              "            <th>genre</th>\n",
              "            <th>earnings_rank</th>\n",
              "            <th>movie_id</th>\n",
              "            <th>person_id</th>\n",
              "            <th>type</th>\n",
              "            <th>year_1</th>\n",
              "        </tr>\n",
              "    </thead>\n",
              "    <tbody>\n",
              "        <tr>\n",
              "            <td>6751668</td>\n",
              "            <td>Parasite</td>\n",
              "            <td>2019</td>\n",
              "            <td>R</td>\n",
              "            <td>132</td>\n",
              "            <td>CDT</td>\n",
              "            <td>None</td>\n",
              "            <td>6751668</td>\n",
              "            <td>None</td>\n",
              "            <td>BEST-PICTURE</td>\n",
              "            <td>2020</td>\n",
              "        </tr>\n",
              "        <tr>\n",
              "            <td>7286456</td>\n",
              "            <td>Joker</td>\n",
              "            <td>2019</td>\n",
              "            <td>R</td>\n",
              "            <td>122</td>\n",
              "            <td>DT</td>\n",
              "            <td>62</td>\n",
              "            <td>7286456</td>\n",
              "            <td>0001618</td>\n",
              "            <td>BEST-ACTOR</td>\n",
              "            <td>2020</td>\n",
              "        </tr>\n",
              "        <tr>\n",
              "            <td>7549996</td>\n",
              "            <td>Judy</td>\n",
              "            <td>2019</td>\n",
              "            <td>PG-13</td>\n",
              "            <td>118</td>\n",
              "            <td>DR</td>\n",
              "            <td>None</td>\n",
              "            <td>7549996</td>\n",
              "            <td>0000250</td>\n",
              "            <td>BEST-ACTRESS</td>\n",
              "            <td>2020</td>\n",
              "        </tr>\n",
              "        <tr>\n",
              "            <td>7131622</td>\n",
              "            <td>Once Upon a Time... In Hollywood</td>\n",
              "            <td>2019</td>\n",
              "            <td>R</td>\n",
              "            <td>161</td>\n",
              "            <td>CD</td>\n",
              "            <td>None</td>\n",
              "            <td>7131622</td>\n",
              "            <td>0000093</td>\n",
              "            <td>BEST-SUPPORTING-ACTOR</td>\n",
              "            <td>2020</td>\n",
              "        </tr>\n",
              "        <tr>\n",
              "            <td>7653254</td>\n",
              "            <td>Marriage Story</td>\n",
              "            <td>2019</td>\n",
              "            <td>R</td>\n",
              "            <td>137</td>\n",
              "            <td>CDR</td>\n",
              "            <td>None</td>\n",
              "            <td>7653254</td>\n",
              "            <td>0000368</td>\n",
              "            <td>BEST-SUPPORTING-ACTRESS</td>\n",
              "            <td>2020</td>\n",
              "        </tr>\n",
              "        <tr>\n",
              "            <td>6751668</td>\n",
              "            <td>Parasite</td>\n",
              "            <td>2019</td>\n",
              "            <td>R</td>\n",
              "            <td>132</td>\n",
              "            <td>CDT</td>\n",
              "            <td>None</td>\n",
              "            <td>6751668</td>\n",
              "            <td>0094435</td>\n",
              "            <td>BEST-DIRECTOR</td>\n",
              "            <td>2020</td>\n",
              "        </tr>\n",
              "        <tr>\n",
              "            <td>6966692</td>\n",
              "            <td>Green Book</td>\n",
              "            <td>2018</td>\n",
              "            <td>PG-13</td>\n",
              "            <td>130</td>\n",
              "            <td>CD</td>\n",
              "            <td>None</td>\n",
              "            <td>6966692</td>\n",
              "            <td>None</td>\n",
              "            <td>BEST-PICTURE</td>\n",
              "            <td>2019</td>\n",
              "        </tr>\n",
              "        <tr>\n",
              "            <td>1727824</td>\n",
              "            <td>Bohemian Rhapsody</td>\n",
              "            <td>2018</td>\n",
              "            <td>PG-13</td>\n",
              "            <td>134</td>\n",
              "            <td>D</td>\n",
              "            <td>181</td>\n",
              "            <td>1727824</td>\n",
              "            <td>1785339</td>\n",
              "            <td>BEST-ACTOR</td>\n",
              "            <td>2019</td>\n",
              "        </tr>\n",
              "        <tr>\n",
              "            <td>5083738</td>\n",
              "            <td>The Favourite</td>\n",
              "            <td>2018</td>\n",
              "            <td>R</td>\n",
              "            <td>119</td>\n",
              "            <td>D</td>\n",
              "            <td>None</td>\n",
              "            <td>5083738</td>\n",
              "            <td>1469236</td>\n",
              "            <td>BEST-ACTRESS</td>\n",
              "            <td>2019</td>\n",
              "        </tr>\n",
              "        <tr>\n",
              "            <td>6966692</td>\n",
              "            <td>Green Book</td>\n",
              "            <td>2018</td>\n",
              "            <td>PG-13</td>\n",
              "            <td>130</td>\n",
              "            <td>CD</td>\n",
              "            <td>None</td>\n",
              "            <td>6966692</td>\n",
              "            <td>0991810</td>\n",
              "            <td>BEST-SUPPORTING-ACTOR</td>\n",
              "            <td>2019</td>\n",
              "        </tr>\n",
              "    </tbody>\n",
              "</table>"
            ],
            "text/plain": [
              "[('6751668', 'Parasite', 2019, 'R', 132, 'CDT', None, '6751668', None, 'BEST-PICTURE', 2020),\n",
              " ('7286456', 'Joker', 2019, 'R', 122, 'DT', 62, '7286456', '0001618', 'BEST-ACTOR', 2020),\n",
              " ('7549996', 'Judy', 2019, 'PG-13', 118, 'DR', None, '7549996', '0000250', 'BEST-ACTRESS', 2020),\n",
              " ('7131622', 'Once Upon a Time... In Hollywood', 2019, 'R', 161, 'CD', None, '7131622', '0000093', 'BEST-SUPPORTING-ACTOR', 2020),\n",
              " ('7653254', 'Marriage Story', 2019, 'R', 137, 'CDR', None, '7653254', '0000368', 'BEST-SUPPORTING-ACTRESS', 2020),\n",
              " ('6751668', 'Parasite', 2019, 'R', 132, 'CDT', None, '6751668', '0094435', 'BEST-DIRECTOR', 2020),\n",
              " ('6966692', 'Green Book', 2018, 'PG-13', 130, 'CD', None, '6966692', None, 'BEST-PICTURE', 2019),\n",
              " ('1727824', 'Bohemian Rhapsody', 2018, 'PG-13', 134, 'D', 181, '1727824', '1785339', 'BEST-ACTOR', 2019),\n",
              " ('5083738', 'The Favourite', 2018, 'R', 119, 'D', None, '5083738', '1469236', 'BEST-ACTRESS', 2019),\n",
              " ('6966692', 'Green Book', 2018, 'PG-13', 130, 'CD', None, '6966692', '0991810', 'BEST-SUPPORTING-ACTOR', 2019)]"
            ]
          },
          "metadata": {},
          "execution_count": 40
        }
      ]
    },
    {
      "cell_type": "code",
      "source": [
        "# We can use this to ask question, such as \"Which actors named Mark have appeared in Stars Wars movies?\"\n",
        "%%sql\n",
        "SELECT DISTINCT P.name FROM Person P \n",
        "  JOIN Actor A on A.actor_id = P.id\n",
        "  JOIN Movie M on A.movie_id = M.id\n",
        "  WHERE M.name LIKE \"Star Wars%\"\n",
        "  AND P.name LIKE 'Mark%';\n"
      ],
      "metadata": {
        "colab": {
          "base_uri": "https://localhost:8080/",
          "height": 95
        },
        "id": "ES6L0fWnsyTZ",
        "outputId": "c9f4c7a3-4d3a-4f95-bccf-a2a690f3b56b"
      },
      "execution_count": 47,
      "outputs": [
        {
          "output_type": "stream",
          "name": "stdout",
          "text": [
            " * sqlite:////content/movie.sqlite\n",
            "Done.\n"
          ]
        },
        {
          "output_type": "execute_result",
          "data": {
            "text/html": [
              "<table>\n",
              "    <thead>\n",
              "        <tr>\n",
              "            <th>name</th>\n",
              "        </tr>\n",
              "    </thead>\n",
              "    <tbody>\n",
              "        <tr>\n",
              "            <td>Mark Hamill</td>\n",
              "        </tr>\n",
              "    </tbody>\n",
              "</table>"
            ],
            "text/plain": [
              "[('Mark Hamill',)]"
            ]
          },
          "metadata": {},
          "execution_count": 47
        }
      ]
    },
    {
      "cell_type": "code",
      "source": [
        "# Or, how about, \"Can you tell me who won best director in 2010?\"\n",
        "\n",
        "%%sql\n",
        "SELECT P.name FROM Person P\n",
        "  JOIN Oscar O on O.person_id = P.id\n",
        "  WHERE O.year = 2010\n",
        "  AND O.type = 'BEST-DIRECTOR';"
      ],
      "metadata": {
        "colab": {
          "base_uri": "https://localhost:8080/",
          "height": 95
        },
        "id": "Q0Aarqa_tU_3",
        "outputId": "f708e4d5-ee84-4cd7-ceaa-3c32405f6e85"
      },
      "execution_count": 50,
      "outputs": [
        {
          "output_type": "stream",
          "name": "stdout",
          "text": [
            " * sqlite:////content/movie.sqlite\n",
            "Done.\n"
          ]
        },
        {
          "output_type": "execute_result",
          "data": {
            "text/html": [
              "<table>\n",
              "    <thead>\n",
              "        <tr>\n",
              "            <th>name</th>\n",
              "        </tr>\n",
              "    </thead>\n",
              "    <tbody>\n",
              "        <tr>\n",
              "            <td>Kathryn Bigelow</td>\n",
              "        </tr>\n",
              "    </tbody>\n",
              "</table>"
            ],
            "text/plain": [
              "[('Kathryn Bigelow',)]"
            ]
          },
          "metadata": {},
          "execution_count": 50
        }
      ]
    },
    {
      "cell_type": "code",
      "source": [
        ""
      ],
      "metadata": {
        "id": "LTm6W6v6uuLt"
      },
      "execution_count": null,
      "outputs": []
    }
  ]
}